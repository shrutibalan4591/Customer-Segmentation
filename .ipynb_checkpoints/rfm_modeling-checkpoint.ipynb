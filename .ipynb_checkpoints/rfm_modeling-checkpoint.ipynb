{
 "cells": [
  {
   "cell_type": "markdown",
   "id": "086baf70-29a4-4acf-9401-2a3160fd33a7",
   "metadata": {
    "tags": []
   },
   "source": [
    "## Import libraries and Load data"
   ]
  },
  {
   "cell_type": "code",
   "execution_count": 1,
   "id": "43686cc4-6f87-4ffe-b631-bab88109fcd2",
   "metadata": {},
   "outputs": [],
   "source": [
    "import pandas as pd\n",
    "import numpy as np\n",
    "import datetime\n",
    "\n",
    "import matplotlib.pyplot as plt\n",
    "%matplotlib inline\n",
    "import seaborn as sns"
   ]
  },
  {
   "cell_type": "code",
   "execution_count": 2,
   "id": "0aed2379-4dd5-446d-8308-2a80c4dd9887",
   "metadata": {},
   "outputs": [
    {
     "data": {
      "text/html": [
       "<div>\n",
       "<style scoped>\n",
       "    .dataframe tbody tr th:only-of-type {\n",
       "        vertical-align: middle;\n",
       "    }\n",
       "\n",
       "    .dataframe tbody tr th {\n",
       "        vertical-align: top;\n",
       "    }\n",
       "\n",
       "    .dataframe thead th {\n",
       "        text-align: right;\n",
       "    }\n",
       "</style>\n",
       "<table border=\"1\" class=\"dataframe\">\n",
       "  <thead>\n",
       "    <tr style=\"text-align: right;\">\n",
       "      <th></th>\n",
       "      <th>transaction_id</th>\n",
       "      <th>product_id</th>\n",
       "      <th>customer_id</th>\n",
       "      <th>transaction_date</th>\n",
       "      <th>online_order</th>\n",
       "      <th>order_status</th>\n",
       "      <th>brand</th>\n",
       "      <th>product_line</th>\n",
       "      <th>product_class</th>\n",
       "      <th>product_size</th>\n",
       "      <th>list_price</th>\n",
       "      <th>standard_cost</th>\n",
       "      <th>product_first_sold_date</th>\n",
       "    </tr>\n",
       "  </thead>\n",
       "  <tbody>\n",
       "    <tr>\n",
       "      <th>0</th>\n",
       "      <td>1</td>\n",
       "      <td>2</td>\n",
       "      <td>2950</td>\n",
       "      <td>2017-02-25</td>\n",
       "      <td>0.0</td>\n",
       "      <td>Approved</td>\n",
       "      <td>Solex</td>\n",
       "      <td>Standard</td>\n",
       "      <td>medium</td>\n",
       "      <td>medium</td>\n",
       "      <td>71.49</td>\n",
       "      <td>53.62</td>\n",
       "      <td>41245.0</td>\n",
       "    </tr>\n",
       "    <tr>\n",
       "      <th>1</th>\n",
       "      <td>2</td>\n",
       "      <td>3</td>\n",
       "      <td>3120</td>\n",
       "      <td>2017-05-21</td>\n",
       "      <td>1.0</td>\n",
       "      <td>Approved</td>\n",
       "      <td>Trek Bicycles</td>\n",
       "      <td>Standard</td>\n",
       "      <td>medium</td>\n",
       "      <td>large</td>\n",
       "      <td>2091.47</td>\n",
       "      <td>388.92</td>\n",
       "      <td>41701.0</td>\n",
       "    </tr>\n",
       "    <tr>\n",
       "      <th>2</th>\n",
       "      <td>3</td>\n",
       "      <td>37</td>\n",
       "      <td>402</td>\n",
       "      <td>2017-10-16</td>\n",
       "      <td>0.0</td>\n",
       "      <td>Approved</td>\n",
       "      <td>OHM Cycles</td>\n",
       "      <td>Standard</td>\n",
       "      <td>low</td>\n",
       "      <td>medium</td>\n",
       "      <td>1793.43</td>\n",
       "      <td>248.82</td>\n",
       "      <td>36361.0</td>\n",
       "    </tr>\n",
       "    <tr>\n",
       "      <th>3</th>\n",
       "      <td>4</td>\n",
       "      <td>88</td>\n",
       "      <td>3135</td>\n",
       "      <td>2017-08-31</td>\n",
       "      <td>0.0</td>\n",
       "      <td>Approved</td>\n",
       "      <td>Norco Bicycles</td>\n",
       "      <td>Standard</td>\n",
       "      <td>medium</td>\n",
       "      <td>medium</td>\n",
       "      <td>1198.46</td>\n",
       "      <td>381.10</td>\n",
       "      <td>36145.0</td>\n",
       "    </tr>\n",
       "    <tr>\n",
       "      <th>4</th>\n",
       "      <td>5</td>\n",
       "      <td>78</td>\n",
       "      <td>787</td>\n",
       "      <td>2017-10-01</td>\n",
       "      <td>1.0</td>\n",
       "      <td>Approved</td>\n",
       "      <td>Giant Bicycles</td>\n",
       "      <td>Standard</td>\n",
       "      <td>medium</td>\n",
       "      <td>large</td>\n",
       "      <td>1765.30</td>\n",
       "      <td>709.48</td>\n",
       "      <td>42226.0</td>\n",
       "    </tr>\n",
       "  </tbody>\n",
       "</table>\n",
       "</div>"
      ],
      "text/plain": [
       "   transaction_id  product_id  customer_id transaction_date  online_order  \\\n",
       "0               1           2         2950       2017-02-25           0.0   \n",
       "1               2           3         3120       2017-05-21           1.0   \n",
       "2               3          37          402       2017-10-16           0.0   \n",
       "3               4          88         3135       2017-08-31           0.0   \n",
       "4               5          78          787       2017-10-01           1.0   \n",
       "\n",
       "  order_status           brand product_line product_class product_size  \\\n",
       "0     Approved           Solex     Standard        medium       medium   \n",
       "1     Approved   Trek Bicycles     Standard        medium        large   \n",
       "2     Approved      OHM Cycles     Standard           low       medium   \n",
       "3     Approved  Norco Bicycles     Standard        medium       medium   \n",
       "4     Approved  Giant Bicycles     Standard        medium        large   \n",
       "\n",
       "   list_price  standard_cost  product_first_sold_date  \n",
       "0       71.49          53.62                  41245.0  \n",
       "1     2091.47         388.92                  41701.0  \n",
       "2     1793.43         248.82                  36361.0  \n",
       "3     1198.46         381.10                  36145.0  \n",
       "4     1765.30         709.48                  42226.0  "
      ]
     },
     "execution_count": 2,
     "metadata": {},
     "output_type": "execute_result"
    }
   ],
   "source": [
    "df_trans = pd.read_csv('Data/transactions.csv')\n",
    "df_trans.head()"
   ]
  },
  {
   "cell_type": "markdown",
   "id": "505e69c4-38a1-4fcf-954e-eca3011bae67",
   "metadata": {
    "tags": []
   },
   "source": [
    "## Clean datasets"
   ]
  },
  {
   "cell_type": "code",
   "execution_count": 3,
   "id": "efbc24b6-bb06-4de6-880d-9ee9d4a8460b",
   "metadata": {},
   "outputs": [
    {
     "data": {
      "text/html": [
       "<div>\n",
       "<style scoped>\n",
       "    .dataframe tbody tr th:only-of-type {\n",
       "        vertical-align: middle;\n",
       "    }\n",
       "\n",
       "    .dataframe tbody tr th {\n",
       "        vertical-align: top;\n",
       "    }\n",
       "\n",
       "    .dataframe thead th {\n",
       "        text-align: right;\n",
       "    }\n",
       "</style>\n",
       "<table border=\"1\" class=\"dataframe\">\n",
       "  <thead>\n",
       "    <tr style=\"text-align: right;\">\n",
       "      <th></th>\n",
       "      <th>transaction_id</th>\n",
       "      <th>product_id</th>\n",
       "      <th>customer_id</th>\n",
       "      <th>transaction_date</th>\n",
       "      <th>online_order</th>\n",
       "      <th>order_status</th>\n",
       "      <th>brand</th>\n",
       "      <th>product_line</th>\n",
       "      <th>product_class</th>\n",
       "      <th>product_size</th>\n",
       "      <th>list_price</th>\n",
       "      <th>standard_cost</th>\n",
       "      <th>product_first_sold_date</th>\n",
       "    </tr>\n",
       "  </thead>\n",
       "  <tbody>\n",
       "    <tr>\n",
       "      <th>0</th>\n",
       "      <td>1</td>\n",
       "      <td>2</td>\n",
       "      <td>2950</td>\n",
       "      <td>2017-02-25</td>\n",
       "      <td>0.0</td>\n",
       "      <td>Approved</td>\n",
       "      <td>Solex</td>\n",
       "      <td>Standard</td>\n",
       "      <td>medium</td>\n",
       "      <td>medium</td>\n",
       "      <td>71.49</td>\n",
       "      <td>53.62</td>\n",
       "      <td>41245.0</td>\n",
       "    </tr>\n",
       "    <tr>\n",
       "      <th>1</th>\n",
       "      <td>2</td>\n",
       "      <td>3</td>\n",
       "      <td>3120</td>\n",
       "      <td>2017-05-21</td>\n",
       "      <td>1.0</td>\n",
       "      <td>Approved</td>\n",
       "      <td>Trek Bicycles</td>\n",
       "      <td>Standard</td>\n",
       "      <td>medium</td>\n",
       "      <td>large</td>\n",
       "      <td>2091.47</td>\n",
       "      <td>388.92</td>\n",
       "      <td>41701.0</td>\n",
       "    </tr>\n",
       "    <tr>\n",
       "      <th>2</th>\n",
       "      <td>3</td>\n",
       "      <td>37</td>\n",
       "      <td>402</td>\n",
       "      <td>2017-10-16</td>\n",
       "      <td>0.0</td>\n",
       "      <td>Approved</td>\n",
       "      <td>OHM Cycles</td>\n",
       "      <td>Standard</td>\n",
       "      <td>low</td>\n",
       "      <td>medium</td>\n",
       "      <td>1793.43</td>\n",
       "      <td>248.82</td>\n",
       "      <td>36361.0</td>\n",
       "    </tr>\n",
       "    <tr>\n",
       "      <th>3</th>\n",
       "      <td>4</td>\n",
       "      <td>88</td>\n",
       "      <td>3135</td>\n",
       "      <td>2017-08-31</td>\n",
       "      <td>0.0</td>\n",
       "      <td>Approved</td>\n",
       "      <td>Norco Bicycles</td>\n",
       "      <td>Standard</td>\n",
       "      <td>medium</td>\n",
       "      <td>medium</td>\n",
       "      <td>1198.46</td>\n",
       "      <td>381.10</td>\n",
       "      <td>36145.0</td>\n",
       "    </tr>\n",
       "    <tr>\n",
       "      <th>4</th>\n",
       "      <td>5</td>\n",
       "      <td>78</td>\n",
       "      <td>787</td>\n",
       "      <td>2017-10-01</td>\n",
       "      <td>1.0</td>\n",
       "      <td>Approved</td>\n",
       "      <td>Giant Bicycles</td>\n",
       "      <td>Standard</td>\n",
       "      <td>medium</td>\n",
       "      <td>large</td>\n",
       "      <td>1765.30</td>\n",
       "      <td>709.48</td>\n",
       "      <td>42226.0</td>\n",
       "    </tr>\n",
       "  </tbody>\n",
       "</table>\n",
       "</div>"
      ],
      "text/plain": [
       "   transaction_id  product_id  customer_id transaction_date  online_order  \\\n",
       "0               1           2         2950       2017-02-25           0.0   \n",
       "1               2           3         3120       2017-05-21           1.0   \n",
       "2               3          37          402       2017-10-16           0.0   \n",
       "3               4          88         3135       2017-08-31           0.0   \n",
       "4               5          78          787       2017-10-01           1.0   \n",
       "\n",
       "  order_status           brand product_line product_class product_size  \\\n",
       "0     Approved           Solex     Standard        medium       medium   \n",
       "1     Approved   Trek Bicycles     Standard        medium        large   \n",
       "2     Approved      OHM Cycles     Standard           low       medium   \n",
       "3     Approved  Norco Bicycles     Standard        medium       medium   \n",
       "4     Approved  Giant Bicycles     Standard        medium        large   \n",
       "\n",
       "   list_price  standard_cost  product_first_sold_date  \n",
       "0       71.49          53.62                  41245.0  \n",
       "1     2091.47         388.92                  41701.0  \n",
       "2     1793.43         248.82                  36361.0  \n",
       "3     1198.46         381.10                  36145.0  \n",
       "4     1765.30         709.48                  42226.0  "
      ]
     },
     "execution_count": 3,
     "metadata": {},
     "output_type": "execute_result"
    }
   ],
   "source": [
    "df_trans.head()"
   ]
  },
  {
   "cell_type": "markdown",
   "id": "8cb9f0c1-4a1e-4595-872c-937c40abd974",
   "metadata": {},
   "source": [
    "We can see that the column 'Product_first_sold_date' has date in a numerical format. This is actually the excel format of storinf date. We need to convert it to datetime format."
   ]
  },
  {
   "cell_type": "code",
   "execution_count": 4,
   "id": "8e12c658-d15d-4f4e-a9b7-bcd8ed64cb15",
   "metadata": {},
   "outputs": [
    {
     "data": {
      "text/html": [
       "<div>\n",
       "<style scoped>\n",
       "    .dataframe tbody tr th:only-of-type {\n",
       "        vertical-align: middle;\n",
       "    }\n",
       "\n",
       "    .dataframe tbody tr th {\n",
       "        vertical-align: top;\n",
       "    }\n",
       "\n",
       "    .dataframe thead th {\n",
       "        text-align: right;\n",
       "    }\n",
       "</style>\n",
       "<table border=\"1\" class=\"dataframe\">\n",
       "  <thead>\n",
       "    <tr style=\"text-align: right;\">\n",
       "      <th></th>\n",
       "      <th>transaction_id</th>\n",
       "      <th>product_id</th>\n",
       "      <th>customer_id</th>\n",
       "      <th>transaction_date</th>\n",
       "      <th>online_order</th>\n",
       "      <th>order_status</th>\n",
       "      <th>brand</th>\n",
       "      <th>product_line</th>\n",
       "      <th>product_class</th>\n",
       "      <th>product_size</th>\n",
       "      <th>list_price</th>\n",
       "      <th>standard_cost</th>\n",
       "      <th>product_first_sold_date</th>\n",
       "    </tr>\n",
       "  </thead>\n",
       "  <tbody>\n",
       "    <tr>\n",
       "      <th>0</th>\n",
       "      <td>1</td>\n",
       "      <td>2</td>\n",
       "      <td>2950</td>\n",
       "      <td>2017-02-25</td>\n",
       "      <td>0.0</td>\n",
       "      <td>Approved</td>\n",
       "      <td>Solex</td>\n",
       "      <td>Standard</td>\n",
       "      <td>medium</td>\n",
       "      <td>medium</td>\n",
       "      <td>71.49</td>\n",
       "      <td>53.62</td>\n",
       "      <td>2012-12-02</td>\n",
       "    </tr>\n",
       "    <tr>\n",
       "      <th>1</th>\n",
       "      <td>2</td>\n",
       "      <td>3</td>\n",
       "      <td>3120</td>\n",
       "      <td>2017-05-21</td>\n",
       "      <td>1.0</td>\n",
       "      <td>Approved</td>\n",
       "      <td>Trek Bicycles</td>\n",
       "      <td>Standard</td>\n",
       "      <td>medium</td>\n",
       "      <td>large</td>\n",
       "      <td>2091.47</td>\n",
       "      <td>388.92</td>\n",
       "      <td>2014-03-03</td>\n",
       "    </tr>\n",
       "    <tr>\n",
       "      <th>2</th>\n",
       "      <td>3</td>\n",
       "      <td>37</td>\n",
       "      <td>402</td>\n",
       "      <td>2017-10-16</td>\n",
       "      <td>0.0</td>\n",
       "      <td>Approved</td>\n",
       "      <td>OHM Cycles</td>\n",
       "      <td>Standard</td>\n",
       "      <td>low</td>\n",
       "      <td>medium</td>\n",
       "      <td>1793.43</td>\n",
       "      <td>248.82</td>\n",
       "      <td>1999-07-20</td>\n",
       "    </tr>\n",
       "    <tr>\n",
       "      <th>3</th>\n",
       "      <td>4</td>\n",
       "      <td>88</td>\n",
       "      <td>3135</td>\n",
       "      <td>2017-08-31</td>\n",
       "      <td>0.0</td>\n",
       "      <td>Approved</td>\n",
       "      <td>Norco Bicycles</td>\n",
       "      <td>Standard</td>\n",
       "      <td>medium</td>\n",
       "      <td>medium</td>\n",
       "      <td>1198.46</td>\n",
       "      <td>381.10</td>\n",
       "      <td>1998-12-16</td>\n",
       "    </tr>\n",
       "    <tr>\n",
       "      <th>4</th>\n",
       "      <td>5</td>\n",
       "      <td>78</td>\n",
       "      <td>787</td>\n",
       "      <td>2017-10-01</td>\n",
       "      <td>1.0</td>\n",
       "      <td>Approved</td>\n",
       "      <td>Giant Bicycles</td>\n",
       "      <td>Standard</td>\n",
       "      <td>medium</td>\n",
       "      <td>large</td>\n",
       "      <td>1765.30</td>\n",
       "      <td>709.48</td>\n",
       "      <td>2015-08-10</td>\n",
       "    </tr>\n",
       "  </tbody>\n",
       "</table>\n",
       "</div>"
      ],
      "text/plain": [
       "   transaction_id  product_id  customer_id transaction_date  online_order  \\\n",
       "0               1           2         2950       2017-02-25           0.0   \n",
       "1               2           3         3120       2017-05-21           1.0   \n",
       "2               3          37          402       2017-10-16           0.0   \n",
       "3               4          88         3135       2017-08-31           0.0   \n",
       "4               5          78          787       2017-10-01           1.0   \n",
       "\n",
       "  order_status           brand product_line product_class product_size  \\\n",
       "0     Approved           Solex     Standard        medium       medium   \n",
       "1     Approved   Trek Bicycles     Standard        medium        large   \n",
       "2     Approved      OHM Cycles     Standard           low       medium   \n",
       "3     Approved  Norco Bicycles     Standard        medium       medium   \n",
       "4     Approved  Giant Bicycles     Standard        medium        large   \n",
       "\n",
       "   list_price  standard_cost product_first_sold_date  \n",
       "0       71.49          53.62              2012-12-02  \n",
       "1     2091.47         388.92              2014-03-03  \n",
       "2     1793.43         248.82              1999-07-20  \n",
       "3     1198.46         381.10              1998-12-16  \n",
       "4     1765.30         709.48              2015-08-10  "
      ]
     },
     "execution_count": 4,
     "metadata": {},
     "output_type": "execute_result"
    }
   ],
   "source": [
    "import xlrd\n",
    "\n",
    "df_trans['product_first_sold_date'] = df_trans['product_first_sold_date'].apply(lambda x : xlrd.xldate_as_datetime(x,0).strftime('%Y-%m-%d') if pd.notnull(x) else x)\n",
    "df_trans['product_first_sold_date'] = pd.to_datetime(df_trans['product_first_sold_date'])\n",
    "df_trans.head()"
   ]
  },
  {
   "cell_type": "markdown",
   "id": "2bc8dbac-b655-4164-99c6-4999701dc82a",
   "metadata": {},
   "source": [
    "Now, look a bit more into the transaction dataset."
   ]
  },
  {
   "cell_type": "code",
   "execution_count": 5,
   "id": "111735a2-f357-413b-bd7d-b0b2b71781fa",
   "metadata": {},
   "outputs": [
    {
     "name": "stdout",
     "output_type": "stream",
     "text": [
      "<class 'pandas.core.frame.DataFrame'>\n",
      "RangeIndex: 20000 entries, 0 to 19999\n",
      "Data columns (total 13 columns):\n",
      " #   Column                   Non-Null Count  Dtype         \n",
      "---  ------                   --------------  -----         \n",
      " 0   transaction_id           20000 non-null  int64         \n",
      " 1   product_id               20000 non-null  int64         \n",
      " 2   customer_id              20000 non-null  int64         \n",
      " 3   transaction_date         20000 non-null  object        \n",
      " 4   online_order             19640 non-null  float64       \n",
      " 5   order_status             20000 non-null  object        \n",
      " 6   brand                    19803 non-null  object        \n",
      " 7   product_line             19803 non-null  object        \n",
      " 8   product_class            19803 non-null  object        \n",
      " 9   product_size             19803 non-null  object        \n",
      " 10  list_price               20000 non-null  float64       \n",
      " 11  standard_cost            19803 non-null  float64       \n",
      " 12  product_first_sold_date  19803 non-null  datetime64[ns]\n",
      "dtypes: datetime64[ns](1), float64(3), int64(3), object(6)\n",
      "memory usage: 2.0+ MB\n"
     ]
    }
   ],
   "source": [
    "# Basic information about data\n",
    "df_trans.info()"
   ]
  },
  {
   "cell_type": "markdown",
   "id": "385f7439-a626-4c48-ba2b-3236de01dc30",
   "metadata": {},
   "source": [
    "**Observation:**\n",
    "- We have a total of 20k transactions, with 13 transaction attributes.\n",
    "- 6 numerical attributes, 6 string attributes and a date attribute.\n",
    "- Datatype of transaction_date is to be changed\n",
    "- Some missing values present."
   ]
  },
  {
   "cell_type": "code",
   "execution_count": 6,
   "id": "a9a1bc03-a4f4-487f-b767-7210950d7ec1",
   "metadata": {},
   "outputs": [],
   "source": [
    "# Change datatype of transaction_date\n",
    "df_trans['transaction_date'] = pd.to_datetime(df_trans['transaction_date'])"
   ]
  },
  {
   "cell_type": "code",
   "execution_count": 7,
   "id": "c2eefcc1-cd2e-4b5a-8f57-0ce148e047de",
   "metadata": {},
   "outputs": [
    {
     "data": {
      "text/html": [
       "<div>\n",
       "<style scoped>\n",
       "    .dataframe tbody tr th:only-of-type {\n",
       "        vertical-align: middle;\n",
       "    }\n",
       "\n",
       "    .dataframe tbody tr th {\n",
       "        vertical-align: top;\n",
       "    }\n",
       "\n",
       "    .dataframe thead th {\n",
       "        text-align: right;\n",
       "    }\n",
       "</style>\n",
       "<table border=\"1\" class=\"dataframe\">\n",
       "  <thead>\n",
       "    <tr style=\"text-align: right;\">\n",
       "      <th></th>\n",
       "      <th>transaction_id</th>\n",
       "      <th>product_id</th>\n",
       "      <th>customer_id</th>\n",
       "      <th>transaction_date</th>\n",
       "      <th>online_order</th>\n",
       "      <th>order_status</th>\n",
       "      <th>brand</th>\n",
       "      <th>product_line</th>\n",
       "      <th>product_class</th>\n",
       "      <th>product_size</th>\n",
       "      <th>list_price</th>\n",
       "      <th>standard_cost</th>\n",
       "      <th>product_first_sold_date</th>\n",
       "    </tr>\n",
       "  </thead>\n",
       "  <tbody>\n",
       "    <tr>\n",
       "      <th>0</th>\n",
       "      <td>1</td>\n",
       "      <td>2</td>\n",
       "      <td>2950</td>\n",
       "      <td>2017-02-25</td>\n",
       "      <td>0.0</td>\n",
       "      <td>Approved</td>\n",
       "      <td>Solex</td>\n",
       "      <td>Standard</td>\n",
       "      <td>medium</td>\n",
       "      <td>medium</td>\n",
       "      <td>71.49</td>\n",
       "      <td>53.62</td>\n",
       "      <td>2012-12-02</td>\n",
       "    </tr>\n",
       "    <tr>\n",
       "      <th>1</th>\n",
       "      <td>2</td>\n",
       "      <td>3</td>\n",
       "      <td>3120</td>\n",
       "      <td>2017-05-21</td>\n",
       "      <td>1.0</td>\n",
       "      <td>Approved</td>\n",
       "      <td>Trek Bicycles</td>\n",
       "      <td>Standard</td>\n",
       "      <td>medium</td>\n",
       "      <td>large</td>\n",
       "      <td>2091.47</td>\n",
       "      <td>388.92</td>\n",
       "      <td>2014-03-03</td>\n",
       "    </tr>\n",
       "    <tr>\n",
       "      <th>2</th>\n",
       "      <td>3</td>\n",
       "      <td>37</td>\n",
       "      <td>402</td>\n",
       "      <td>2017-10-16</td>\n",
       "      <td>0.0</td>\n",
       "      <td>Approved</td>\n",
       "      <td>OHM Cycles</td>\n",
       "      <td>Standard</td>\n",
       "      <td>low</td>\n",
       "      <td>medium</td>\n",
       "      <td>1793.43</td>\n",
       "      <td>248.82</td>\n",
       "      <td>1999-07-20</td>\n",
       "    </tr>\n",
       "    <tr>\n",
       "      <th>3</th>\n",
       "      <td>4</td>\n",
       "      <td>88</td>\n",
       "      <td>3135</td>\n",
       "      <td>2017-08-31</td>\n",
       "      <td>0.0</td>\n",
       "      <td>Approved</td>\n",
       "      <td>Norco Bicycles</td>\n",
       "      <td>Standard</td>\n",
       "      <td>medium</td>\n",
       "      <td>medium</td>\n",
       "      <td>1198.46</td>\n",
       "      <td>381.10</td>\n",
       "      <td>1998-12-16</td>\n",
       "    </tr>\n",
       "    <tr>\n",
       "      <th>4</th>\n",
       "      <td>5</td>\n",
       "      <td>78</td>\n",
       "      <td>787</td>\n",
       "      <td>2017-10-01</td>\n",
       "      <td>1.0</td>\n",
       "      <td>Approved</td>\n",
       "      <td>Giant Bicycles</td>\n",
       "      <td>Standard</td>\n",
       "      <td>medium</td>\n",
       "      <td>large</td>\n",
       "      <td>1765.30</td>\n",
       "      <td>709.48</td>\n",
       "      <td>2015-08-10</td>\n",
       "    </tr>\n",
       "  </tbody>\n",
       "</table>\n",
       "</div>"
      ],
      "text/plain": [
       "   transaction_id  product_id  customer_id transaction_date  online_order  \\\n",
       "0               1           2         2950       2017-02-25           0.0   \n",
       "1               2           3         3120       2017-05-21           1.0   \n",
       "2               3          37          402       2017-10-16           0.0   \n",
       "3               4          88         3135       2017-08-31           0.0   \n",
       "4               5          78          787       2017-10-01           1.0   \n",
       "\n",
       "  order_status           brand product_line product_class product_size  \\\n",
       "0     Approved           Solex     Standard        medium       medium   \n",
       "1     Approved   Trek Bicycles     Standard        medium        large   \n",
       "2     Approved      OHM Cycles     Standard           low       medium   \n",
       "3     Approved  Norco Bicycles     Standard        medium       medium   \n",
       "4     Approved  Giant Bicycles     Standard        medium        large   \n",
       "\n",
       "   list_price  standard_cost product_first_sold_date  \n",
       "0       71.49          53.62              2012-12-02  \n",
       "1     2091.47         388.92              2014-03-03  \n",
       "2     1793.43         248.82              1999-07-20  \n",
       "3     1198.46         381.10              1998-12-16  \n",
       "4     1765.30         709.48              2015-08-10  "
      ]
     },
     "execution_count": 7,
     "metadata": {},
     "output_type": "execute_result"
    }
   ],
   "source": [
    "df_trans.head()"
   ]
  },
  {
   "cell_type": "code",
   "execution_count": 8,
   "id": "f74457f2-23c1-45e8-83df-0f3792849845",
   "metadata": {},
   "outputs": [
    {
     "data": {
      "text/plain": [
       "transaction_id             20000\n",
       "product_id                   101\n",
       "customer_id                 3494\n",
       "transaction_date             364\n",
       "online_order                   2\n",
       "order_status                   2\n",
       "brand                          6\n",
       "product_line                   4\n",
       "product_class                  3\n",
       "product_size                   3\n",
       "list_price                   296\n",
       "standard_cost                103\n",
       "product_first_sold_date      100\n",
       "dtype: int64"
      ]
     },
     "execution_count": 8,
     "metadata": {},
     "output_type": "execute_result"
    }
   ],
   "source": [
    "# Display number of unique values for each variable\n",
    "df_trans.nunique()"
   ]
  },
  {
   "cell_type": "markdown",
   "id": "cde38099-9fa2-4833-930e-3cc229dc70b8",
   "metadata": {},
   "source": [
    "**Observation :** Based on the above results, we should have 6 categorical variables, 2 numerical columns and 2 date columns (we are not including ids' here )"
   ]
  },
  {
   "cell_type": "code",
   "execution_count": 9,
   "id": "bfdb2236-906e-4a3e-bc90-5dc3ebbd9ebf",
   "metadata": {},
   "outputs": [
    {
     "name": "stdout",
     "output_type": "stream",
     "text": [
      "order_status\n",
      "['Approved' 'Cancelled']\n",
      "------------------------------------------------\n",
      "brand\n",
      "['Solex' 'Trek Bicycles' 'OHM Cycles' 'Norco Bicycles' 'Giant Bicycles'\n",
      " 'WeareA2B' nan]\n",
      "------------------------------------------------\n",
      "product_line\n",
      "['Standard' 'Road' 'Mountain' 'Touring' nan]\n",
      "------------------------------------------------\n",
      "product_class\n",
      "['medium' 'low' 'high' nan]\n",
      "------------------------------------------------\n",
      "product_size\n",
      "['medium' 'large' 'small' nan]\n",
      "------------------------------------------------\n"
     ]
    }
   ],
   "source": [
    "# Display unique values of categorical values\n",
    "cat_columns = [col for col in df_trans.columns if df_trans[col].dtype=='O']\n",
    "for column in cat_columns:\n",
    "    print(column)\n",
    "    print(df_trans[column].unique())\n",
    "    print('------------------------------------------------')"
   ]
  },
  {
   "cell_type": "code",
   "execution_count": 10,
   "id": "404c1654-f098-45ef-9c47-930a852fdbea",
   "metadata": {},
   "outputs": [
    {
     "data": {
      "text/html": [
       "<div>\n",
       "<style scoped>\n",
       "    .dataframe tbody tr th:only-of-type {\n",
       "        vertical-align: middle;\n",
       "    }\n",
       "\n",
       "    .dataframe tbody tr th {\n",
       "        vertical-align: top;\n",
       "    }\n",
       "\n",
       "    .dataframe thead th {\n",
       "        text-align: right;\n",
       "    }\n",
       "</style>\n",
       "<table border=\"1\" class=\"dataframe\">\n",
       "  <thead>\n",
       "    <tr style=\"text-align: right;\">\n",
       "      <th></th>\n",
       "      <th>count</th>\n",
       "      <th>mean</th>\n",
       "      <th>std</th>\n",
       "      <th>min</th>\n",
       "      <th>10%</th>\n",
       "      <th>20%</th>\n",
       "      <th>25%</th>\n",
       "      <th>30%</th>\n",
       "      <th>40%</th>\n",
       "      <th>50%</th>\n",
       "      <th>60%</th>\n",
       "      <th>70%</th>\n",
       "      <th>75%</th>\n",
       "      <th>80%</th>\n",
       "      <th>90%</th>\n",
       "      <th>99%</th>\n",
       "      <th>max</th>\n",
       "    </tr>\n",
       "  </thead>\n",
       "  <tbody>\n",
       "    <tr>\n",
       "      <th>list_price</th>\n",
       "      <td>20000.0</td>\n",
       "      <td>1107.829449</td>\n",
       "      <td>582.825242</td>\n",
       "      <td>12.01</td>\n",
       "      <td>235.63</td>\n",
       "      <td>533.51</td>\n",
       "      <td>575.27</td>\n",
       "      <td>742.54</td>\n",
       "      <td>980.37</td>\n",
       "      <td>1163.89</td>\n",
       "      <td>1289.85</td>\n",
       "      <td>1469.44</td>\n",
       "      <td>1635.3</td>\n",
       "      <td>1762.96</td>\n",
       "      <td>1873.97</td>\n",
       "      <td>2091.47</td>\n",
       "      <td>2091.47</td>\n",
       "    </tr>\n",
       "    <tr>\n",
       "      <th>standard_cost</th>\n",
       "      <td>19803.0</td>\n",
       "      <td>556.046951</td>\n",
       "      <td>405.955660</td>\n",
       "      <td>7.21</td>\n",
       "      <td>99.59</td>\n",
       "      <td>161.60</td>\n",
       "      <td>215.14</td>\n",
       "      <td>270.30</td>\n",
       "      <td>388.72</td>\n",
       "      <td>507.58</td>\n",
       "      <td>612.88</td>\n",
       "      <td>733.58</td>\n",
       "      <td>795.1</td>\n",
       "      <td>829.65</td>\n",
       "      <td>1105.75</td>\n",
       "      <td>1610.90</td>\n",
       "      <td>1759.85</td>\n",
       "    </tr>\n",
       "  </tbody>\n",
       "</table>\n",
       "</div>"
      ],
      "text/plain": [
       "                 count         mean         std    min     10%     20%  \\\n",
       "list_price     20000.0  1107.829449  582.825242  12.01  235.63  533.51   \n",
       "standard_cost  19803.0   556.046951  405.955660   7.21   99.59  161.60   \n",
       "\n",
       "                  25%     30%     40%      50%      60%      70%     75%  \\\n",
       "list_price     575.27  742.54  980.37  1163.89  1289.85  1469.44  1635.3   \n",
       "standard_cost  215.14  270.30  388.72   507.58   612.88   733.58   795.1   \n",
       "\n",
       "                   80%      90%      99%      max  \n",
       "list_price     1762.96  1873.97  2091.47  2091.47  \n",
       "standard_cost   829.65  1105.75  1610.90  1759.85  "
      ]
     },
     "execution_count": 10,
     "metadata": {},
     "output_type": "execute_result"
    }
   ],
   "source": [
    "# Display range of numerical data\n",
    "num_columns = ['list_price','standard_cost']\n",
    "percentiles=[0.1, 0.2, 0.25, 0.3, 0.4, 0.5, 0.6, 0.7, 0.75, 0.8, 0.9, 0.99]\n",
    "pd.DataFrame(df_trans[num_columns].describe(percentiles=percentiles)).T"
   ]
  },
  {
   "cell_type": "markdown",
   "id": "50ec1dc4-500a-4045-84b2-1702a323be33",
   "metadata": {},
   "source": [
    "**Missing values**"
   ]
  },
  {
   "cell_type": "code",
   "execution_count": 11,
   "id": "fa7f08bd-f4fd-416c-a781-9bb7b23ad0a9",
   "metadata": {},
   "outputs": [
    {
     "data": {
      "text/plain": [
       "transaction_id               0\n",
       "product_id                   0\n",
       "customer_id                  0\n",
       "transaction_date             0\n",
       "online_order               360\n",
       "order_status                 0\n",
       "brand                      197\n",
       "product_line               197\n",
       "product_class              197\n",
       "product_size               197\n",
       "list_price                   0\n",
       "standard_cost              197\n",
       "product_first_sold_date    197\n",
       "dtype: int64"
      ]
     },
     "execution_count": 11,
     "metadata": {},
     "output_type": "execute_result"
    }
   ],
   "source": [
    "df_trans.isnull().sum()"
   ]
  },
  {
   "cell_type": "code",
   "execution_count": 12,
   "id": "15f96b38-6907-4bf1-a7dd-8d2c111d28a4",
   "metadata": {},
   "outputs": [
    {
     "data": {
      "text/plain": [
       "(20000, 13)"
      ]
     },
     "execution_count": 12,
     "metadata": {},
     "output_type": "execute_result"
    }
   ],
   "source": [
    "df_trans.shape"
   ]
  },
  {
   "cell_type": "code",
   "execution_count": 13,
   "id": "ea53fa04-cad8-4679-9b15-37188489ff92",
   "metadata": {},
   "outputs": [
    {
     "data": {
      "text/plain": [
       "(transaction_id               0\n",
       " product_id                   0\n",
       " customer_id                  0\n",
       " transaction_date             0\n",
       " online_order               358\n",
       " order_status                 0\n",
       " brand                        0\n",
       " product_line                 0\n",
       " product_class                0\n",
       " product_size                 0\n",
       " list_price                   0\n",
       " standard_cost                0\n",
       " product_first_sold_date      0\n",
       " dtype: int64,\n",
       " (19803, 13))"
      ]
     },
     "execution_count": 13,
     "metadata": {},
     "output_type": "execute_result"
    }
   ],
   "source": [
    "# Drop rows with more tha 3 missing values\n",
    "d = np.where(df_trans.isnull().sum(axis=1)>3)\n",
    "df_trans = df_trans.drop(df_trans.index[d])\n",
    "df_trans.isnull().sum(), df_trans.shape"
   ]
  },
  {
   "cell_type": "code",
   "execution_count": 14,
   "id": "28817f8c-7d59-4c9a-9726-f12d0249ab62",
   "metadata": {},
   "outputs": [
    {
     "data": {
      "text/plain": [
       "1.0    9739\n",
       "0.0    9706\n",
       "Name: online_order, dtype: int64"
      ]
     },
     "execution_count": 14,
     "metadata": {},
     "output_type": "execute_result"
    }
   ],
   "source": [
    "df_trans.online_order.value_counts()"
   ]
  },
  {
   "cell_type": "code",
   "execution_count": 15,
   "id": "b96e5258-6261-4a5c-8a67-909110612a52",
   "metadata": {},
   "outputs": [
    {
     "data": {
      "text/plain": [
       "(transaction_id             0\n",
       " product_id                 0\n",
       " customer_id                0\n",
       " transaction_date           0\n",
       " online_order               0\n",
       " order_status               0\n",
       " brand                      0\n",
       " product_line               0\n",
       " product_class              0\n",
       " product_size               0\n",
       " list_price                 0\n",
       " standard_cost              0\n",
       " product_first_sold_date    0\n",
       " dtype: int64,\n",
       " (19445, 13))"
      ]
     },
     "execution_count": 15,
     "metadata": {},
     "output_type": "execute_result"
    }
   ],
   "source": [
    "# Lets drop rows with missing online_order values too.\n",
    "df_trans.dropna(subset=['online_order'], inplace=True)\n",
    "df_trans.isnull().sum(), df_trans.shape"
   ]
  },
  {
   "cell_type": "markdown",
   "id": "66d2e501-c928-44b2-8707-aced0f8972a9",
   "metadata": {
    "tags": []
   },
   "source": [
    "### **Visualization**"
   ]
  },
  {
   "cell_type": "markdown",
   "id": "5e22df20-bb14-4001-81d2-3920aaea32bd",
   "metadata": {},
   "source": [
    "**Number of online orders V/S non online orders**"
   ]
  },
  {
   "cell_type": "code",
   "execution_count": 16,
   "id": "bd56b1a3-9533-4776-bb56-bc05d543edd1",
   "metadata": {},
   "outputs": [
    {
     "data": {
      "text/html": [
       "<div>\n",
       "<style scoped>\n",
       "    .dataframe tbody tr th:only-of-type {\n",
       "        vertical-align: middle;\n",
       "    }\n",
       "\n",
       "    .dataframe tbody tr th {\n",
       "        vertical-align: top;\n",
       "    }\n",
       "\n",
       "    .dataframe thead th {\n",
       "        text-align: right;\n",
       "    }\n",
       "</style>\n",
       "<table border=\"1\" class=\"dataframe\">\n",
       "  <thead>\n",
       "    <tr style=\"text-align: right;\">\n",
       "      <th></th>\n",
       "      <th>transaction_id</th>\n",
       "      <th>product_id</th>\n",
       "      <th>customer_id</th>\n",
       "      <th>transaction_date</th>\n",
       "      <th>online_order</th>\n",
       "      <th>order_status</th>\n",
       "      <th>brand</th>\n",
       "      <th>product_line</th>\n",
       "      <th>product_class</th>\n",
       "      <th>product_size</th>\n",
       "      <th>list_price</th>\n",
       "      <th>standard_cost</th>\n",
       "      <th>product_first_sold_date</th>\n",
       "    </tr>\n",
       "  </thead>\n",
       "  <tbody>\n",
       "    <tr>\n",
       "      <th>0</th>\n",
       "      <td>1</td>\n",
       "      <td>2</td>\n",
       "      <td>2950</td>\n",
       "      <td>2017-02-25</td>\n",
       "      <td>No</td>\n",
       "      <td>Approved</td>\n",
       "      <td>Solex</td>\n",
       "      <td>Standard</td>\n",
       "      <td>medium</td>\n",
       "      <td>medium</td>\n",
       "      <td>71.49</td>\n",
       "      <td>53.62</td>\n",
       "      <td>2012-12-02</td>\n",
       "    </tr>\n",
       "    <tr>\n",
       "      <th>1</th>\n",
       "      <td>2</td>\n",
       "      <td>3</td>\n",
       "      <td>3120</td>\n",
       "      <td>2017-05-21</td>\n",
       "      <td>Yes</td>\n",
       "      <td>Approved</td>\n",
       "      <td>Trek Bicycles</td>\n",
       "      <td>Standard</td>\n",
       "      <td>medium</td>\n",
       "      <td>large</td>\n",
       "      <td>2091.47</td>\n",
       "      <td>388.92</td>\n",
       "      <td>2014-03-03</td>\n",
       "    </tr>\n",
       "    <tr>\n",
       "      <th>2</th>\n",
       "      <td>3</td>\n",
       "      <td>37</td>\n",
       "      <td>402</td>\n",
       "      <td>2017-10-16</td>\n",
       "      <td>No</td>\n",
       "      <td>Approved</td>\n",
       "      <td>OHM Cycles</td>\n",
       "      <td>Standard</td>\n",
       "      <td>low</td>\n",
       "      <td>medium</td>\n",
       "      <td>1793.43</td>\n",
       "      <td>248.82</td>\n",
       "      <td>1999-07-20</td>\n",
       "    </tr>\n",
       "    <tr>\n",
       "      <th>3</th>\n",
       "      <td>4</td>\n",
       "      <td>88</td>\n",
       "      <td>3135</td>\n",
       "      <td>2017-08-31</td>\n",
       "      <td>No</td>\n",
       "      <td>Approved</td>\n",
       "      <td>Norco Bicycles</td>\n",
       "      <td>Standard</td>\n",
       "      <td>medium</td>\n",
       "      <td>medium</td>\n",
       "      <td>1198.46</td>\n",
       "      <td>381.10</td>\n",
       "      <td>1998-12-16</td>\n",
       "    </tr>\n",
       "    <tr>\n",
       "      <th>4</th>\n",
       "      <td>5</td>\n",
       "      <td>78</td>\n",
       "      <td>787</td>\n",
       "      <td>2017-10-01</td>\n",
       "      <td>Yes</td>\n",
       "      <td>Approved</td>\n",
       "      <td>Giant Bicycles</td>\n",
       "      <td>Standard</td>\n",
       "      <td>medium</td>\n",
       "      <td>large</td>\n",
       "      <td>1765.30</td>\n",
       "      <td>709.48</td>\n",
       "      <td>2015-08-10</td>\n",
       "    </tr>\n",
       "  </tbody>\n",
       "</table>\n",
       "</div>"
      ],
      "text/plain": [
       "   transaction_id  product_id  customer_id transaction_date online_order  \\\n",
       "0               1           2         2950       2017-02-25           No   \n",
       "1               2           3         3120       2017-05-21          Yes   \n",
       "2               3          37          402       2017-10-16           No   \n",
       "3               4          88         3135       2017-08-31           No   \n",
       "4               5          78          787       2017-10-01          Yes   \n",
       "\n",
       "  order_status           brand product_line product_class product_size  \\\n",
       "0     Approved           Solex     Standard        medium       medium   \n",
       "1     Approved   Trek Bicycles     Standard        medium        large   \n",
       "2     Approved      OHM Cycles     Standard           low       medium   \n",
       "3     Approved  Norco Bicycles     Standard        medium       medium   \n",
       "4     Approved  Giant Bicycles     Standard        medium        large   \n",
       "\n",
       "   list_price  standard_cost product_first_sold_date  \n",
       "0       71.49          53.62              2012-12-02  \n",
       "1     2091.47         388.92              2014-03-03  \n",
       "2     1793.43         248.82              1999-07-20  \n",
       "3     1198.46         381.10              1998-12-16  \n",
       "4     1765.30         709.48              2015-08-10  "
      ]
     },
     "execution_count": 16,
     "metadata": {},
     "output_type": "execute_result"
    }
   ],
   "source": [
    "df_trans['online_order'].replace({0.0:'No', 1.0:'Yes'}, inplace=True)\n",
    "df_trans.head()"
   ]
  },
  {
   "cell_type": "code",
   "execution_count": 17,
   "id": "665cb1c9-347a-4aae-b23c-cd039b5f4bb6",
   "metadata": {},
   "outputs": [
    {
     "data": {
      "image/png": "[encoded data removed]",
      "text/plain": [
       "<Figure size 500x300 with 1 Axes>"
      ]
     },
     "metadata": {},
     "output_type": "display_data"
    }
   ],
   "source": [
    "plt.figure(figsize=(5,3))\n",
    "sns.countplot(data=df_trans, x='online_order')\n",
    "plt.show()"
   ]
  },
  {
   "cell_type": "markdown",
   "id": "e41b1b8b-bc2b-44ff-abd0-06d426085e12",
   "metadata": {},
   "source": [
    "**************************************\n",
    "\n",
    "**Number of sales by brands**"
   ]
  },
  {
   "cell_type": "code",
   "execution_count": 18,
   "id": "a16093d3-7ac0-474e-86b7-9781b13ab78f",
   "metadata": {},
   "outputs": [
    {
     "data": {
      "image/png": "[encoded data removed]",
      "text/plain": [
       "<Figure size 1000x400 with 1 Axes>"
      ]
     },
     "metadata": {},
     "output_type": "display_data"
    }
   ],
   "source": [
    "plt.figure(figsize=(10,4))\n",
    "sns.countplot(data=df_trans, x='brand')\n",
    "plt.title('Figure 1: Number of sales by brand of bicycles')\n",
    "plt.show()"
   ]
  },
  {
   "cell_type": "markdown",
   "id": "b711fa8b-1ff1-4efe-9eab-504c2728bfea",
   "metadata": {},
   "source": [
    "**************************************************************\n",
    "**Number of sales by product_line**"
   ]
  },
  {
   "cell_type": "code",
   "execution_count": 19,
   "id": "0dd1be7d-1805-43b4-a669-f88f4ab4ba17",
   "metadata": {},
   "outputs": [
    {
     "data": {
      "image/png": "[encoded data removed]",
      "text/plain": [
       "<Figure size 500x300 with 1 Axes>"
      ]
     },
     "metadata": {},
     "output_type": "display_data"
    }
   ],
   "source": [
    "plt.figure(figsize=(5,3))\n",
    "sns.countplot(data=df_trans, x='product_line')\n",
    "plt.title('Figure 2: Number of sales by product lines(primary purpose of use)')\n",
    "plt.show()"
   ]
  },
  {
   "cell_type": "markdown",
   "id": "4158850d-187c-4566-9f02-7d7ffff44731",
   "metadata": {},
   "source": [
    "************************************\n",
    "**Number of sales by product_class**"
   ]
  },
  {
   "cell_type": "code",
   "execution_count": 20,
   "id": "2740c2ed-48de-4e39-a7a6-2ae6a7c85d37",
   "metadata": {},
   "outputs": [
    {
     "data": {
      "image/png": "[encoded data removed]",
      "text/plain": [
       "<Figure size 500x300 with 1 Axes>"
      ]
     },
     "metadata": {},
     "output_type": "display_data"
    }
   ],
   "source": [
    "plt.figure(figsize=(5,3))\n",
    "sns.countplot(data=df_trans, x='product_class')\n",
    "plt.title('Figure 3: Number of sales by product class of bicycles')\n",
    "plt.show()"
   ]
  },
  {
   "cell_type": "markdown",
   "id": "e9a7c70e-0c3e-4631-b76e-459b9887c3d2",
   "metadata": {},
   "source": [
    "**********************************\n",
    "**Number of sales by product_size**"
   ]
  },
  {
   "cell_type": "code",
   "execution_count": 21,
   "id": "b6d39177-54b0-414c-a267-37799552fdfd",
   "metadata": {},
   "outputs": [
    {
     "data": {
      "image/png": "[encoded data removed]",
      "text/plain": [
       "<Figure size 500x300 with 1 Axes>"
      ]
     },
     "metadata": {},
     "output_type": "display_data"
    }
   ],
   "source": [
    "plt.figure(figsize=(5,3))\n",
    "sns.countplot(data=df_trans, x='product_size')\n",
    "plt.title('Figure 4: Number of sales by size of bicycles')\n",
    "plt.show()"
   ]
  },
  {
   "cell_type": "markdown",
   "id": "85bb070b-9789-4219-8270-1e79857377b8",
   "metadata": {},
   "source": [
    "*************************************\n",
    "**Number of sales by brand X product line**"
   ]
  },
  {
   "cell_type": "code",
   "execution_count": 22,
   "id": "23ce9211-c548-405c-9501-e8a5230eefb1",
   "metadata": {},
   "outputs": [
    {
     "data": {
      "image/png": "[encoded data removed]",
      "text/plain": [
       "<Figure size 1000x500 with 1 Axes>"
      ]
     },
     "metadata": {},
     "output_type": "display_data"
    }
   ],
   "source": [
    "plt.figure(figsize=(10,5))\n",
    "sns.countplot(data=df_trans, x='brand', hue='product_line')\n",
    "plt.title('Figure 5: Number of sales by brand X product line of bicycles')\n",
    "plt.show()"
   ]
  },
  {
   "cell_type": "markdown",
   "id": "596a2713-8b5a-41b9-8a16-acb50d758b88",
   "metadata": {},
   "source": [
    "*****************************************\n",
    "**Number of sales bby brand X product_class**"
   ]
  },
  {
   "cell_type": "code",
   "execution_count": 23,
   "id": "bc2987fb-5e1d-49c9-b367-5895c15fa74c",
   "metadata": {},
   "outputs": [
    {
     "data": {
      "image/png": "[encoded data removed]",
      "text/plain": [
       "<Figure size 1000x500 with 1 Axes>"
      ]
     },
     "metadata": {},
     "output_type": "display_data"
    }
   ],
   "source": [
    "plt.figure(figsize=(10,5))\n",
    "sns.countplot(data=df_trans, x='brand', hue='product_class')\n",
    "plt.title('Number of sales made by brands X product_class')\n",
    "plt.show()"
   ]
  },
  {
   "cell_type": "markdown",
   "id": "f404a308-0b8d-41c9-8db4-7f8a6242c9be",
   "metadata": {},
   "source": [
    "**OBSERVATION :**\n",
    "In the above visualizations, we see that\n",
    "- Among brands, **Solex** brand has a slighly upper hand in the total sales.\n",
    "- Standard line of bicycles bagged the majority of the total number of sales, both in general as well as brand-wise.\n",
    "- Medium product class of bicycles bagged the majority of the total number of sales, both in general as well as brand-wise.\n",
    "- Medium sizes bicycles were the most preferred by the customers.\n",
    "\n",
    "*******************************\n",
    "\n",
    "Now, lets find out the profit made for each transactions by using the formula :\n",
    "**profit = list_price - standard_cost**"
   ]
  },
  {
   "cell_type": "code",
   "execution_count": 24,
   "id": "aa88c710-9ee7-4fa3-ba06-f0772b7bd993",
   "metadata": {},
   "outputs": [],
   "source": [
    "# Create column profit\n",
    "df_trans['profit'] = df_trans['list_price'] - df_trans['standard_cost']"
   ]
  },
  {
   "cell_type": "markdown",
   "id": "cc8cb669-eb62-4cf8-8d24-aaf83edd0033",
   "metadata": {},
   "source": [
    "Now, lets visualize the following questions:\n",
    "- Which brand made the highest profit in total?\n",
    "- Compare the total sales v/s total profit by brand name?"
   ]
  },
  {
   "cell_type": "markdown",
   "id": "a694280d-19f9-44a8-a863-2185941473f1",
   "metadata": {},
   "source": [
    "************************************************\n",
    "**Which brand made the highest profit in total?**"
   ]
  },
  {
   "cell_type": "code",
   "execution_count": 25,
   "id": "00b4db64-7315-498d-86e3-be3fb2af08e7",
   "metadata": {},
   "outputs": [
    {
     "data": {
      "image/png": "[encoded data removed]",
      "text/plain": [
       "<Figure size 500x300 with 1 Axes>"
      ]
     },
     "metadata": {},
     "output_type": "display_data"
    }
   ],
   "source": [
    "plt.figure(figsize=(5,3))\n",
    "df_trans.groupby('brand').profit.agg(sum).plot(legend=True, kind='bar')\n",
    "plt.title('Total profit by brands')\n",
    "plt.show()"
   ]
  },
  {
   "cell_type": "markdown",
   "id": "5d722247-b1a8-4b44-af19-3508ca3324e9",
   "metadata": {},
   "source": [
    "**Compare the total sales v/s total profit by brand name?**"
   ]
  },
  {
   "cell_type": "code",
   "execution_count": 26,
   "id": "c18f68cc-0b5f-450c-a2d9-c7cae3a3e88f",
   "metadata": {},
   "outputs": [
    {
     "data": {
      "text/html": [
       "<div>\n",
       "<style scoped>\n",
       "    .dataframe tbody tr th:only-of-type {\n",
       "        vertical-align: middle;\n",
       "    }\n",
       "\n",
       "    .dataframe tbody tr th {\n",
       "        vertical-align: top;\n",
       "    }\n",
       "\n",
       "    .dataframe thead th {\n",
       "        text-align: right;\n",
       "    }\n",
       "</style>\n",
       "<table border=\"1\" class=\"dataframe\">\n",
       "  <thead>\n",
       "    <tr style=\"text-align: right;\">\n",
       "      <th></th>\n",
       "      <th>transaction_id</th>\n",
       "      <th>profit</th>\n",
       "    </tr>\n",
       "    <tr>\n",
       "      <th>brand</th>\n",
       "      <th></th>\n",
       "      <th></th>\n",
       "    </tr>\n",
       "  </thead>\n",
       "  <tbody>\n",
       "    <tr>\n",
       "      <th>Giant Bicycles</th>\n",
       "      <td>3244</td>\n",
       "      <td>1.541165e+06</td>\n",
       "    </tr>\n",
       "    <tr>\n",
       "      <th>Norco Bicycles</th>\n",
       "      <td>2863</td>\n",
       "      <td>8.532516e+05</td>\n",
       "    </tr>\n",
       "    <tr>\n",
       "      <th>OHM Cycles</th>\n",
       "      <td>2993</td>\n",
       "      <td>1.453562e+06</td>\n",
       "    </tr>\n",
       "    <tr>\n",
       "      <th>Solex</th>\n",
       "      <td>4169</td>\n",
       "      <td>2.355830e+06</td>\n",
       "    </tr>\n",
       "    <tr>\n",
       "      <th>Trek Bicycles</th>\n",
       "      <td>2931</td>\n",
       "      <td>1.807321e+06</td>\n",
       "    </tr>\n",
       "    <tr>\n",
       "      <th>WeareA2B</th>\n",
       "      <td>3245</td>\n",
       "      <td>2.717686e+06</td>\n",
       "    </tr>\n",
       "  </tbody>\n",
       "</table>\n",
       "</div>"
      ],
      "text/plain": [
       "                transaction_id        profit\n",
       "brand                                       \n",
       "Giant Bicycles            3244  1.541165e+06\n",
       "Norco Bicycles            2863  8.532516e+05\n",
       "OHM Cycles                2993  1.453562e+06\n",
       "Solex                     4169  2.355830e+06\n",
       "Trek Bicycles             2931  1.807321e+06\n",
       "WeareA2B                  3245  2.717686e+06"
      ]
     },
     "execution_count": 26,
     "metadata": {},
     "output_type": "execute_result"
    }
   ],
   "source": [
    "df_grouped = df_trans.groupby('brand').agg({'transaction_id':'size', 'profit':'sum'})\n",
    "df_grouped"
   ]
  },
  {
   "cell_type": "code",
   "execution_count": 27,
   "id": "1e96039a-42ce-4761-adcc-e3195cb80c12",
   "metadata": {},
   "outputs": [
    {
     "data": {
      "image/png": "[encoded data removed]",
      "text/plain": [
       "<Figure size 2000x500 with 2 Axes>"
      ]
     },
     "metadata": {},
     "output_type": "display_data"
    }
   ],
   "source": [
    "fig = plt.figure(figsize=(20,5))        # Create matplotlib figure\n",
    "\n",
    "ax = fig.add_subplot(111) # Create matplotlib axes\n",
    "ax2 = ax.twinx()          # Create another axes that shares the same x-axis as ax.\n",
    "\n",
    "df_grouped.transaction_id.plot(kind='bar', color='red', ax=ax, width=0.3, position=1, label='no. of sales')\n",
    "df_grouped.profit.plot(kind='bar', color='blue', ax=ax2, width=0.3, position=0, label='total profit')\n",
    "ax2.set_ylim(0,3.0e+06)\n",
    "\n",
    "ax.set_ylabel('No. of sales')\n",
    "ax2.set_ylabel('Profit')\n",
    "\n",
    "ax.legend(loc='upper left')\n",
    "ax2.legend(loc='upper right')\n",
    "plt.show()"
   ]
  },
  {
   "cell_type": "markdown",
   "id": "725aa63c-286d-4144-a5f1-7aad5fd2b31a",
   "metadata": {},
   "source": [
    "**Observations :**\n",
    "- Brands WeareA2B and Solex scores the highest profits, but\n",
    "- Despite higher sales compared to WeareA2B, Solex has made less profits.\n",
    "- Brands like Norco Bicycles, OHM and Giant bicycles has made the least profit, even though they sold substantial number of units."
   ]
  },
  {
   "cell_type": "markdown",
   "id": "2622b9ce-d261-471b-9269-b8f1f7bb2d3b",
   "metadata": {
    "tags": []
   },
   "source": [
    "## RFM Modeling"
   ]
  },
  {
   "cell_type": "code",
   "execution_count": 28,
   "id": "954c7dba-42be-44dd-af19-2f1a5fb1aabc",
   "metadata": {},
   "outputs": [
    {
     "data": {
      "text/html": [
       "<div>\n",
       "<style scoped>\n",
       "    .dataframe tbody tr th:only-of-type {\n",
       "        vertical-align: middle;\n",
       "    }\n",
       "\n",
       "    .dataframe tbody tr th {\n",
       "        vertical-align: top;\n",
       "    }\n",
       "\n",
       "    .dataframe thead th {\n",
       "        text-align: right;\n",
       "    }\n",
       "</style>\n",
       "<table border=\"1\" class=\"dataframe\">\n",
       "  <thead>\n",
       "    <tr style=\"text-align: right;\">\n",
       "      <th></th>\n",
       "      <th>transaction_id</th>\n",
       "      <th>product_id</th>\n",
       "      <th>customer_id</th>\n",
       "      <th>transaction_date</th>\n",
       "      <th>online_order</th>\n",
       "      <th>order_status</th>\n",
       "      <th>brand</th>\n",
       "      <th>product_line</th>\n",
       "      <th>product_class</th>\n",
       "      <th>product_size</th>\n",
       "      <th>list_price</th>\n",
       "      <th>standard_cost</th>\n",
       "      <th>product_first_sold_date</th>\n",
       "      <th>profit</th>\n",
       "    </tr>\n",
       "  </thead>\n",
       "  <tbody>\n",
       "    <tr>\n",
       "      <th>10904</th>\n",
       "      <td>10905</td>\n",
       "      <td>0</td>\n",
       "      <td>2659</td>\n",
       "      <td>2017-12-30</td>\n",
       "      <td>No</td>\n",
       "      <td>Approved</td>\n",
       "      <td>Solex</td>\n",
       "      <td>Standard</td>\n",
       "      <td>medium</td>\n",
       "      <td>medium</td>\n",
       "      <td>100.35</td>\n",
       "      <td>75.26</td>\n",
       "      <td>2004-01-16</td>\n",
       "      <td>25.09</td>\n",
       "    </tr>\n",
       "    <tr>\n",
       "      <th>2284</th>\n",
       "      <td>2285</td>\n",
       "      <td>95</td>\n",
       "      <td>3216</td>\n",
       "      <td>2017-12-30</td>\n",
       "      <td>Yes</td>\n",
       "      <td>Approved</td>\n",
       "      <td>Giant Bicycles</td>\n",
       "      <td>Standard</td>\n",
       "      <td>medium</td>\n",
       "      <td>large</td>\n",
       "      <td>569.56</td>\n",
       "      <td>528.43</td>\n",
       "      <td>2016-03-29</td>\n",
       "      <td>41.13</td>\n",
       "    </tr>\n",
       "    <tr>\n",
       "      <th>7517</th>\n",
       "      <td>7518</td>\n",
       "      <td>65</td>\n",
       "      <td>3433</td>\n",
       "      <td>2017-12-30</td>\n",
       "      <td>No</td>\n",
       "      <td>Approved</td>\n",
       "      <td>WeareA2B</td>\n",
       "      <td>Standard</td>\n",
       "      <td>medium</td>\n",
       "      <td>medium</td>\n",
       "      <td>1807.45</td>\n",
       "      <td>778.69</td>\n",
       "      <td>2015-05-21</td>\n",
       "      <td>1028.76</td>\n",
       "    </tr>\n",
       "    <tr>\n",
       "      <th>1032</th>\n",
       "      <td>1033</td>\n",
       "      <td>49</td>\n",
       "      <td>934</td>\n",
       "      <td>2017-12-30</td>\n",
       "      <td>No</td>\n",
       "      <td>Approved</td>\n",
       "      <td>Trek Bicycles</td>\n",
       "      <td>Road</td>\n",
       "      <td>medium</td>\n",
       "      <td>medium</td>\n",
       "      <td>533.51</td>\n",
       "      <td>400.13</td>\n",
       "      <td>1997-10-04</td>\n",
       "      <td>133.38</td>\n",
       "    </tr>\n",
       "    <tr>\n",
       "      <th>16257</th>\n",
       "      <td>16258</td>\n",
       "      <td>14</td>\n",
       "      <td>2055</td>\n",
       "      <td>2017-12-30</td>\n",
       "      <td>Yes</td>\n",
       "      <td>Approved</td>\n",
       "      <td>Solex</td>\n",
       "      <td>Standard</td>\n",
       "      <td>high</td>\n",
       "      <td>large</td>\n",
       "      <td>1842.92</td>\n",
       "      <td>1105.75</td>\n",
       "      <td>1995-10-24</td>\n",
       "      <td>737.17</td>\n",
       "    </tr>\n",
       "  </tbody>\n",
       "</table>\n",
       "</div>"
      ],
      "text/plain": [
       "       transaction_id  product_id  customer_id transaction_date online_order  \\\n",
       "10904           10905           0         2659       2017-12-30           No   \n",
       "2284             2285          95         3216       2017-12-30          Yes   \n",
       "7517             7518          65         3433       2017-12-30           No   \n",
       "1032             1033          49          934       2017-12-30           No   \n",
       "16257           16258          14         2055       2017-12-30          Yes   \n",
       "\n",
       "      order_status           brand product_line product_class product_size  \\\n",
       "10904     Approved           Solex     Standard        medium       medium   \n",
       "2284      Approved  Giant Bicycles     Standard        medium        large   \n",
       "7517      Approved        WeareA2B     Standard        medium       medium   \n",
       "1032      Approved   Trek Bicycles         Road        medium       medium   \n",
       "16257     Approved           Solex     Standard          high        large   \n",
       "\n",
       "       list_price  standard_cost product_first_sold_date   profit  \n",
       "10904      100.35          75.26              2004-01-16    25.09  \n",
       "2284       569.56         528.43              2016-03-29    41.13  \n",
       "7517      1807.45         778.69              2015-05-21  1028.76  \n",
       "1032       533.51         400.13              1997-10-04   133.38  \n",
       "16257     1842.92        1105.75              1995-10-24   737.17  "
      ]
     },
     "execution_count": 28,
     "metadata": {},
     "output_type": "execute_result"
    }
   ],
   "source": [
    "# Sort transactions based on transaction_date\n",
    "df_trans.sort_values(by='transaction_date', ascending=False, inplace=True)\n",
    "df_trans.head()"
   ]
  },
  {
   "cell_type": "code",
   "execution_count": 29,
   "id": "a5285471-99b7-41e2-b872-4b10ccfa02ff",
   "metadata": {},
   "outputs": [],
   "source": [
    "# Set comparison date to one date ahead of the latest date from the dataset\n",
    "# Here, the latest date is 201-1-30, so we set the comparison date as 2017-12-31\n",
    "present_date = datetime.datetime(2017,12,31)"
   ]
  },
  {
   "cell_type": "markdown",
   "id": "1da02633-8c22-445c-8022-510907a13d7d",
   "metadata": {},
   "source": [
    "Next, we create the Recency-Frequency-Monetary or RFM model. For this, we need the columns transaction_id, customer_id, transaction_date and list_price"
   ]
  },
  {
   "cell_type": "code",
   "execution_count": 30,
   "id": "52a3afec-9799-4d10-a126-465021845fc3",
   "metadata": {},
   "outputs": [
    {
     "data": {
      "text/plain": [
       "(       customer_id  transaction_id transaction_date  list_price\n",
       " 10904         2659           10905       2017-12-30      100.35\n",
       " 2284          3216            2285       2017-12-30      569.56\n",
       " 7517          3433            7518       2017-12-30     1807.45,\n",
       " (19445, 4))"
      ]
     },
     "execution_count": 30,
     "metadata": {},
     "output_type": "execute_result"
    }
   ],
   "source": [
    "# Create new dataframe for doing RFM analysis\n",
    "df_rfm = df_trans[['customer_id', 'transaction_id', 'transaction_date', 'list_price']]\n",
    "df_rfm.head(3), df_rfm.shape"
   ]
  },
  {
   "cell_type": "code",
   "execution_count": 31,
   "id": "de9cae20-6bb6-4960-b2e4-7f8d140df06a",
   "metadata": {},
   "outputs": [
    {
     "data": {
      "text/plain": [
       "(Index(['transaction_date', 'transaction_id', 'list_price'], dtype='object'),\n",
       " (3492, 3),\n",
       "              transaction_date  transaction_id  list_price\n",
       " customer_id                                              \n",
       " 1                           8              11     9084.45\n",
       " 2                         129               3     4149.07\n",
       " 3                         103               7     9525.22\n",
       " 4                         196               2     1047.72\n",
       " 5                          17               6     5903.20)"
      ]
     },
     "execution_count": 31,
     "metadata": {},
     "output_type": "execute_result"
    }
   ],
   "source": [
    "df_rfm = df_rfm.groupby('customer_id').agg({'transaction_date': lambda date: (present_date - date.max()).days,\n",
    "                                                'transaction_id': lambda num: len(num),\n",
    "                                                'list_price': lambda price: price.sum()})\n",
    "df_rfm.columns, df_rfm.shape, df_rfm.head()"
   ]
  },
  {
   "cell_type": "code",
   "execution_count": 32,
   "id": "eaa2b060-6b66-4245-ad7a-5b9591bc7a59",
   "metadata": {},
   "outputs": [
    {
     "data": {
      "text/html": [
       "<div>\n",
       "<style scoped>\n",
       "    .dataframe tbody tr th:only-of-type {\n",
       "        vertical-align: middle;\n",
       "    }\n",
       "\n",
       "    .dataframe tbody tr th {\n",
       "        vertical-align: top;\n",
       "    }\n",
       "\n",
       "    .dataframe thead th {\n",
       "        text-align: right;\n",
       "    }\n",
       "</style>\n",
       "<table border=\"1\" class=\"dataframe\">\n",
       "  <thead>\n",
       "    <tr style=\"text-align: right;\">\n",
       "      <th></th>\n",
       "      <th>recency</th>\n",
       "      <th>frequency</th>\n",
       "      <th>monetary</th>\n",
       "    </tr>\n",
       "    <tr>\n",
       "      <th>customer_id</th>\n",
       "      <th></th>\n",
       "      <th></th>\n",
       "      <th></th>\n",
       "    </tr>\n",
       "  </thead>\n",
       "  <tbody>\n",
       "    <tr>\n",
       "      <th>1</th>\n",
       "      <td>8</td>\n",
       "      <td>11</td>\n",
       "      <td>9084.45</td>\n",
       "    </tr>\n",
       "    <tr>\n",
       "      <th>2</th>\n",
       "      <td>129</td>\n",
       "      <td>3</td>\n",
       "      <td>4149.07</td>\n",
       "    </tr>\n",
       "    <tr>\n",
       "      <th>3</th>\n",
       "      <td>103</td>\n",
       "      <td>7</td>\n",
       "      <td>9525.22</td>\n",
       "    </tr>\n",
       "  </tbody>\n",
       "</table>\n",
       "</div>"
      ],
      "text/plain": [
       "             recency  frequency  monetary\n",
       "customer_id                              \n",
       "1                  8         11   9084.45\n",
       "2                129          3   4149.07\n",
       "3                103          7   9525.22"
      ]
     },
     "execution_count": 32,
     "metadata": {},
     "output_type": "execute_result"
    }
   ],
   "source": [
    "# Change name of columns\n",
    "df_rfm.columns = ['recency', 'frequency', 'monetary']\n",
    "df_rfm.head(3)"
   ]
  },
  {
   "cell_type": "code",
   "execution_count": 33,
   "id": "16784924-3492-47e2-9897-f59e90763a45",
   "metadata": {},
   "outputs": [
    {
     "data": {
      "image/png": "[encoded data removed]",
      "text/plain": [
       "<Figure size 1000x900 with 3 Axes>"
      ]
     },
     "metadata": {},
     "output_type": "display_data"
    }
   ],
   "source": [
    "# Plot RFM distributions\n",
    "# select the columns to be plotted\n",
    "cols = ['recency', 'frequency', 'monetary']\n",
    "\n",
    "# create the figure and axes\n",
    "fig, axes = plt.subplots(3,1, figsize=(10,9))\n",
    "axes = axes.ravel()  # flattening the array makes indexing easier\n",
    "\n",
    "for col, ax in zip(cols, axes):\n",
    "    sns.histplot(data=df_rfm[col], kde=True, stat='density', ax=ax)\n",
    "\n",
    "fig.tight_layout()\n",
    "plt.show()"
   ]
  },
  {
   "cell_type": "code",
   "execution_count": 34,
   "id": "dee9903c-72b0-495b-a4a4-a0aff22443cf",
   "metadata": {},
   "outputs": [
    {
     "name": "stdout",
     "output_type": "stream",
     "text": [
      "RECENCY QUARTILES:-\n",
      "min    :1\n",
      "q1     :19.0\n",
      "median :46.0\n",
      "q3     :89.0\n",
      "max    :354\n",
      "FREQUENCY QUARTILES:-\n",
      "min    :1\n",
      "q1     :4.0\n",
      "median :5.0\n",
      "q3     :7.0\n",
      "max    :14\n",
      "MONETARY QUARTILES:-\n",
      "min    :60.34\n",
      "q1     :4049.8100000000004\n",
      "median :5868.1849999999995\n",
      "q3     :8008.9225\n",
      "max    :19071.32\n"
     ]
    }
   ],
   "source": [
    "# Find the 5 quartiles for R, F and M (min, q1, median, q3, max)\n",
    "print('RECENCY QUARTILES:-')\n",
    "print('min    :' + str(df_rfm['recency'].min()))\n",
    "print('q1     :' + str(np.percentile(df_rfm.recency, 25)))\n",
    "print('median :' + str(np.percentile(df_rfm.recency, 50)))\n",
    "print('q3     :' + str(np.percentile(df_rfm.recency, 75)))\n",
    "print('max    :' + str(df_rfm['recency'].max()))\n",
    "\n",
    "print('FREQUENCY QUARTILES:-')\n",
    "print('min    :' + str(df_rfm['frequency'].min()))\n",
    "print('q1     :' + str(np.percentile(df_rfm.frequency, 25)))\n",
    "print('median :' + str(np.percentile(df_rfm.frequency, 50)))\n",
    "print('q3     :' + str(np.percentile(df_rfm.frequency, 75)))\n",
    "print('max    :' + str(df_rfm['frequency'].max()))\n",
    "\n",
    "print('MONETARY QUARTILES:-')\n",
    "print('min    :' + str(df_rfm['monetary'].min()))\n",
    "print('q1     :' + str(np.percentile(df_rfm.monetary, 25)))\n",
    "print('median :' + str(np.percentile(df_rfm.monetary, 50)))\n",
    "print('q3     :' + str(np.percentile(df_rfm.monetary, 75)))\n",
    "print('max    :' + str(df_rfm['monetary'].max()))"
   ]
  },
  {
   "cell_type": "code",
   "execution_count": 35,
   "id": "e26b4eae-4030-4119-a2d5-0601c84e0edd",
   "metadata": {},
   "outputs": [
    {
     "data": {
      "text/html": [
       "<div>\n",
       "<style scoped>\n",
       "    .dataframe tbody tr th:only-of-type {\n",
       "        vertical-align: middle;\n",
       "    }\n",
       "\n",
       "    .dataframe tbody tr th {\n",
       "        vertical-align: top;\n",
       "    }\n",
       "\n",
       "    .dataframe thead th {\n",
       "        text-align: right;\n",
       "    }\n",
       "</style>\n",
       "<table border=\"1\" class=\"dataframe\">\n",
       "  <thead>\n",
       "    <tr style=\"text-align: right;\">\n",
       "      <th></th>\n",
       "      <th>recency</th>\n",
       "      <th>frequency</th>\n",
       "      <th>monetary</th>\n",
       "      <th>r_quartile</th>\n",
       "      <th>f_quartile</th>\n",
       "      <th>m_quartile</th>\n",
       "    </tr>\n",
       "    <tr>\n",
       "      <th>customer_id</th>\n",
       "      <th></th>\n",
       "      <th></th>\n",
       "      <th></th>\n",
       "      <th></th>\n",
       "      <th></th>\n",
       "      <th></th>\n",
       "    </tr>\n",
       "  </thead>\n",
       "  <tbody>\n",
       "    <tr>\n",
       "      <th>1</th>\n",
       "      <td>8</td>\n",
       "      <td>11</td>\n",
       "      <td>9084.45</td>\n",
       "      <td>4</td>\n",
       "      <td>4</td>\n",
       "      <td>4</td>\n",
       "    </tr>\n",
       "    <tr>\n",
       "      <th>2</th>\n",
       "      <td>129</td>\n",
       "      <td>3</td>\n",
       "      <td>4149.07</td>\n",
       "      <td>1</td>\n",
       "      <td>1</td>\n",
       "      <td>2</td>\n",
       "    </tr>\n",
       "    <tr>\n",
       "      <th>3</th>\n",
       "      <td>103</td>\n",
       "      <td>7</td>\n",
       "      <td>9525.22</td>\n",
       "      <td>1</td>\n",
       "      <td>3</td>\n",
       "      <td>4</td>\n",
       "    </tr>\n",
       "    <tr>\n",
       "      <th>4</th>\n",
       "      <td>196</td>\n",
       "      <td>2</td>\n",
       "      <td>1047.72</td>\n",
       "      <td>1</td>\n",
       "      <td>1</td>\n",
       "      <td>1</td>\n",
       "    </tr>\n",
       "    <tr>\n",
       "      <th>5</th>\n",
       "      <td>17</td>\n",
       "      <td>6</td>\n",
       "      <td>5903.20</td>\n",
       "      <td>4</td>\n",
       "      <td>3</td>\n",
       "      <td>3</td>\n",
       "    </tr>\n",
       "  </tbody>\n",
       "</table>\n",
       "</div>"
      ],
      "text/plain": [
       "             recency  frequency  monetary r_quartile f_quartile m_quartile\n",
       "customer_id                                                               \n",
       "1                  8         11   9084.45          4          4          4\n",
       "2                129          3   4149.07          1          1          2\n",
       "3                103          7   9525.22          1          3          4\n",
       "4                196          2   1047.72          1          1          1\n",
       "5                 17          6   5903.20          4          3          3"
      ]
     },
     "execution_count": 35,
     "metadata": {},
     "output_type": "execute_result"
    }
   ],
   "source": [
    "# Computing quantile of RFM values\n",
    "\n",
    "# Lowest recency, highest frequency, highest monetary : TOP CUSTOMERS\n",
    "df_rfm['r_quartile'] = pd.qcut(df_rfm['recency'], 4, ['4', '3', '2', '1'])\n",
    "df_rfm['f_quartile'] = pd.qcut(df_rfm['frequency'], 4, ['1','2','3','4'])\n",
    "df_rfm['m_quartile'] = pd.qcut(df_rfm['monetary'], 4, ['1','2','3','4'])\n",
    "df_rfm.head()"
   ]
  },
  {
   "cell_type": "code",
   "execution_count": 36,
   "id": "625d9718-b56a-4456-8677-1dd5d96fb39c",
   "metadata": {},
   "outputs": [
    {
     "data": {
      "text/html": [
       "<div>\n",
       "<style scoped>\n",
       "    .dataframe tbody tr th:only-of-type {\n",
       "        vertical-align: middle;\n",
       "    }\n",
       "\n",
       "    .dataframe tbody tr th {\n",
       "        vertical-align: top;\n",
       "    }\n",
       "\n",
       "    .dataframe thead th {\n",
       "        text-align: right;\n",
       "    }\n",
       "</style>\n",
       "<table border=\"1\" class=\"dataframe\">\n",
       "  <thead>\n",
       "    <tr style=\"text-align: right;\">\n",
       "      <th></th>\n",
       "      <th>recency</th>\n",
       "      <th>frequency</th>\n",
       "      <th>monetary</th>\n",
       "      <th>r_quartile</th>\n",
       "      <th>f_quartile</th>\n",
       "      <th>m_quartile</th>\n",
       "      <th>RFM_Score</th>\n",
       "    </tr>\n",
       "    <tr>\n",
       "      <th>customer_id</th>\n",
       "      <th></th>\n",
       "      <th></th>\n",
       "      <th></th>\n",
       "      <th></th>\n",
       "      <th></th>\n",
       "      <th></th>\n",
       "      <th></th>\n",
       "    </tr>\n",
       "  </thead>\n",
       "  <tbody>\n",
       "    <tr>\n",
       "      <th>1</th>\n",
       "      <td>8</td>\n",
       "      <td>11</td>\n",
       "      <td>9084.45</td>\n",
       "      <td>4</td>\n",
       "      <td>4</td>\n",
       "      <td>4</td>\n",
       "      <td>444</td>\n",
       "    </tr>\n",
       "    <tr>\n",
       "      <th>2</th>\n",
       "      <td>129</td>\n",
       "      <td>3</td>\n",
       "      <td>4149.07</td>\n",
       "      <td>1</td>\n",
       "      <td>1</td>\n",
       "      <td>2</td>\n",
       "      <td>112</td>\n",
       "    </tr>\n",
       "    <tr>\n",
       "      <th>3</th>\n",
       "      <td>103</td>\n",
       "      <td>7</td>\n",
       "      <td>9525.22</td>\n",
       "      <td>1</td>\n",
       "      <td>3</td>\n",
       "      <td>4</td>\n",
       "      <td>134</td>\n",
       "    </tr>\n",
       "    <tr>\n",
       "      <th>4</th>\n",
       "      <td>196</td>\n",
       "      <td>2</td>\n",
       "      <td>1047.72</td>\n",
       "      <td>1</td>\n",
       "      <td>1</td>\n",
       "      <td>1</td>\n",
       "      <td>111</td>\n",
       "    </tr>\n",
       "    <tr>\n",
       "      <th>5</th>\n",
       "      <td>17</td>\n",
       "      <td>6</td>\n",
       "      <td>5903.20</td>\n",
       "      <td>4</td>\n",
       "      <td>3</td>\n",
       "      <td>3</td>\n",
       "      <td>433</td>\n",
       "    </tr>\n",
       "  </tbody>\n",
       "</table>\n",
       "</div>"
      ],
      "text/plain": [
       "             recency  frequency  monetary r_quartile f_quartile m_quartile  \\\n",
       "customer_id                                                                  \n",
       "1                  8         11   9084.45          4          4          4   \n",
       "2                129          3   4149.07          1          1          2   \n",
       "3                103          7   9525.22          1          3          4   \n",
       "4                196          2   1047.72          1          1          1   \n",
       "5                 17          6   5903.20          4          3          3   \n",
       "\n",
       "             RFM_Score  \n",
       "customer_id             \n",
       "1                  444  \n",
       "2                  112  \n",
       "3                  134  \n",
       "4                  111  \n",
       "5                  433  "
      ]
     },
     "execution_count": 36,
     "metadata": {},
     "output_type": "execute_result"
    }
   ],
   "source": [
    "# Combine all three quartiles(r_quartile,f_quartile,m_quartile) in a single column, to form the rfm-score\n",
    "df_rfm['RFM_Score'] = df_rfm.r_quartile.astype(int)*100 + df_rfm.f_quartile.astype(int)*10 + df_rfm.m_quartile.astype(int)\n",
    "df_rfm.head()"
   ]
  },
  {
   "cell_type": "code",
   "execution_count": 37,
   "id": "99073401-680d-4572-86c4-f9f88108f1fa",
   "metadata": {},
   "outputs": [
    {
     "name": "stdout",
     "output_type": "stream",
     "text": [
      "RFM QUARTILES:-\n",
      "min    :111\n",
      "q1     :211.0\n",
      "median :311.0\n",
      "q3     :411.0\n",
      "max    :444\n"
     ]
    }
   ],
   "source": [
    "print('RFM QUARTILES:-')\n",
    "print('min    :' + str(df_rfm['RFM_Score'].min()))\n",
    "print('q1     :' + str(np.percentile(df_rfm.RFM_Score, 25)))\n",
    "print('median :' + str(np.percentile(df_rfm.RFM_Score, 50)))\n",
    "print('q3     :' + str(np.percentile(df_rfm.RFM_Score, 75)))\n",
    "print('max    :' + str(df_rfm['RFM_Score'].max()))"
   ]
  },
  {
   "cell_type": "code",
   "execution_count": 38,
   "id": "87483540-054d-4dc5-95c6-e6f3eea762c5",
   "metadata": {},
   "outputs": [
    {
     "data": {
      "text/html": [
       "<div>\n",
       "<style scoped>\n",
       "    .dataframe tbody tr th:only-of-type {\n",
       "        vertical-align: middle;\n",
       "    }\n",
       "\n",
       "    .dataframe tbody tr th {\n",
       "        vertical-align: top;\n",
       "    }\n",
       "\n",
       "    .dataframe thead th {\n",
       "        text-align: right;\n",
       "    }\n",
       "</style>\n",
       "<table border=\"1\" class=\"dataframe\">\n",
       "  <thead>\n",
       "    <tr style=\"text-align: right;\">\n",
       "      <th></th>\n",
       "      <th>recency</th>\n",
       "      <th>frequency</th>\n",
       "      <th>monetary</th>\n",
       "      <th>r_quartile</th>\n",
       "      <th>f_quartile</th>\n",
       "      <th>m_quartile</th>\n",
       "      <th>RFM_Score</th>\n",
       "      <th>customer_value</th>\n",
       "    </tr>\n",
       "    <tr>\n",
       "      <th>customer_id</th>\n",
       "      <th></th>\n",
       "      <th></th>\n",
       "      <th></th>\n",
       "      <th></th>\n",
       "      <th></th>\n",
       "      <th></th>\n",
       "      <th></th>\n",
       "      <th></th>\n",
       "    </tr>\n",
       "  </thead>\n",
       "  <tbody>\n",
       "    <tr>\n",
       "      <th>1</th>\n",
       "      <td>8</td>\n",
       "      <td>11</td>\n",
       "      <td>9084.45</td>\n",
       "      <td>4</td>\n",
       "      <td>4</td>\n",
       "      <td>4</td>\n",
       "      <td>444</td>\n",
       "      <td>Platinum</td>\n",
       "    </tr>\n",
       "    <tr>\n",
       "      <th>2</th>\n",
       "      <td>129</td>\n",
       "      <td>3</td>\n",
       "      <td>4149.07</td>\n",
       "      <td>1</td>\n",
       "      <td>1</td>\n",
       "      <td>2</td>\n",
       "      <td>112</td>\n",
       "      <td>Bronze</td>\n",
       "    </tr>\n",
       "    <tr>\n",
       "      <th>3</th>\n",
       "      <td>103</td>\n",
       "      <td>7</td>\n",
       "      <td>9525.22</td>\n",
       "      <td>1</td>\n",
       "      <td>3</td>\n",
       "      <td>4</td>\n",
       "      <td>134</td>\n",
       "      <td>Bronze</td>\n",
       "    </tr>\n",
       "    <tr>\n",
       "      <th>4</th>\n",
       "      <td>196</td>\n",
       "      <td>2</td>\n",
       "      <td>1047.72</td>\n",
       "      <td>1</td>\n",
       "      <td>1</td>\n",
       "      <td>1</td>\n",
       "      <td>111</td>\n",
       "      <td>Bronze</td>\n",
       "    </tr>\n",
       "    <tr>\n",
       "      <th>5</th>\n",
       "      <td>17</td>\n",
       "      <td>6</td>\n",
       "      <td>5903.20</td>\n",
       "      <td>4</td>\n",
       "      <td>3</td>\n",
       "      <td>3</td>\n",
       "      <td>433</td>\n",
       "      <td>Platinum</td>\n",
       "    </tr>\n",
       "  </tbody>\n",
       "</table>\n",
       "</div>"
      ],
      "text/plain": [
       "             recency  frequency  monetary r_quartile f_quartile m_quartile  \\\n",
       "customer_id                                                                  \n",
       "1                  8         11   9084.45          4          4          4   \n",
       "2                129          3   4149.07          1          1          2   \n",
       "3                103          7   9525.22          1          3          4   \n",
       "4                196          2   1047.72          1          1          1   \n",
       "5                 17          6   5903.20          4          3          3   \n",
       "\n",
       "             RFM_Score customer_value  \n",
       "customer_id                            \n",
       "1                  444       Platinum  \n",
       "2                  112         Bronze  \n",
       "3                  134         Bronze  \n",
       "4                  111         Bronze  \n",
       "5                  433       Platinum  "
      ]
     },
     "execution_count": 38,
     "metadata": {},
     "output_type": "execute_result"
    }
   ],
   "source": [
    "# Binning of RFM_Score based on the quantiles\n",
    "df_rfm['customer_value'] = pd.qcut(df_rfm['RFM_Score'], 4, ['Bronze', 'Silver', 'Gold', 'Platinum'])\n",
    "df_rfm.head()"
   ]
  },
  {
   "cell_type": "code",
   "execution_count": 39,
   "id": "e52a05c3-6229-4b89-8560-b8b256acf42e",
   "metadata": {},
   "outputs": [
    {
     "data": {
      "text/html": [
       "<div>\n",
       "<style scoped>\n",
       "    .dataframe tbody tr th:only-of-type {\n",
       "        vertical-align: middle;\n",
       "    }\n",
       "\n",
       "    .dataframe tbody tr th {\n",
       "        vertical-align: top;\n",
       "    }\n",
       "\n",
       "    .dataframe thead th {\n",
       "        text-align: right;\n",
       "    }\n",
       "</style>\n",
       "<table border=\"1\" class=\"dataframe\">\n",
       "  <thead>\n",
       "    <tr style=\"text-align: right;\">\n",
       "      <th></th>\n",
       "      <th>customer_id</th>\n",
       "      <th>recency</th>\n",
       "      <th>frequency</th>\n",
       "      <th>monetary</th>\n",
       "      <th>r_quartile</th>\n",
       "      <th>f_quartile</th>\n",
       "      <th>m_quartile</th>\n",
       "      <th>RFM_Score</th>\n",
       "      <th>customer_value</th>\n",
       "    </tr>\n",
       "  </thead>\n",
       "  <tbody>\n",
       "    <tr>\n",
       "      <th>0</th>\n",
       "      <td>1</td>\n",
       "      <td>8</td>\n",
       "      <td>11</td>\n",
       "      <td>9084.45</td>\n",
       "      <td>4</td>\n",
       "      <td>4</td>\n",
       "      <td>4</td>\n",
       "      <td>444</td>\n",
       "      <td>Platinum</td>\n",
       "    </tr>\n",
       "    <tr>\n",
       "      <th>1</th>\n",
       "      <td>2</td>\n",
       "      <td>129</td>\n",
       "      <td>3</td>\n",
       "      <td>4149.07</td>\n",
       "      <td>1</td>\n",
       "      <td>1</td>\n",
       "      <td>2</td>\n",
       "      <td>112</td>\n",
       "      <td>Bronze</td>\n",
       "    </tr>\n",
       "    <tr>\n",
       "      <th>2</th>\n",
       "      <td>3</td>\n",
       "      <td>103</td>\n",
       "      <td>7</td>\n",
       "      <td>9525.22</td>\n",
       "      <td>1</td>\n",
       "      <td>3</td>\n",
       "      <td>4</td>\n",
       "      <td>134</td>\n",
       "      <td>Bronze</td>\n",
       "    </tr>\n",
       "    <tr>\n",
       "      <th>3</th>\n",
       "      <td>4</td>\n",
       "      <td>196</td>\n",
       "      <td>2</td>\n",
       "      <td>1047.72</td>\n",
       "      <td>1</td>\n",
       "      <td>1</td>\n",
       "      <td>1</td>\n",
       "      <td>111</td>\n",
       "      <td>Bronze</td>\n",
       "    </tr>\n",
       "    <tr>\n",
       "      <th>4</th>\n",
       "      <td>5</td>\n",
       "      <td>17</td>\n",
       "      <td>6</td>\n",
       "      <td>5903.20</td>\n",
       "      <td>4</td>\n",
       "      <td>3</td>\n",
       "      <td>3</td>\n",
       "      <td>433</td>\n",
       "      <td>Platinum</td>\n",
       "    </tr>\n",
       "  </tbody>\n",
       "</table>\n",
       "</div>"
      ],
      "text/plain": [
       "   customer_id  recency  frequency  monetary r_quartile f_quartile m_quartile  \\\n",
       "0            1        8         11   9084.45          4          4          4   \n",
       "1            2      129          3   4149.07          1          1          2   \n",
       "2            3      103          7   9525.22          1          3          4   \n",
       "3            4      196          2   1047.72          1          1          1   \n",
       "4            5       17          6   5903.20          4          3          3   \n",
       "\n",
       "   RFM_Score customer_value  \n",
       "0        444       Platinum  \n",
       "1        112         Bronze  \n",
       "2        134         Bronze  \n",
       "3        111         Bronze  \n",
       "4        433       Platinum  "
      ]
     },
     "execution_count": 39,
     "metadata": {},
     "output_type": "execute_result"
    }
   ],
   "source": [
    "df_rfm.reset_index(inplace=True)\n",
    "df_rfm.head()"
   ]
  },
  {
   "cell_type": "code",
   "execution_count": 40,
   "id": "6715f91d-b2d1-42a4-a3d0-e225ed8267c9",
   "metadata": {},
   "outputs": [
    {
     "data": {
      "text/html": [
       "<div>\n",
       "<style scoped>\n",
       "    .dataframe tbody tr th:only-of-type {\n",
       "        vertical-align: middle;\n",
       "    }\n",
       "\n",
       "    .dataframe tbody tr th {\n",
       "        vertical-align: top;\n",
       "    }\n",
       "\n",
       "    .dataframe thead th {\n",
       "        text-align: right;\n",
       "    }\n",
       "</style>\n",
       "<table border=\"1\" class=\"dataframe\">\n",
       "  <thead>\n",
       "    <tr style=\"text-align: right;\">\n",
       "      <th></th>\n",
       "      <th>customer_id</th>\n",
       "      <th>recency</th>\n",
       "      <th>frequency</th>\n",
       "      <th>monetary</th>\n",
       "      <th>customer_value</th>\n",
       "    </tr>\n",
       "  </thead>\n",
       "  <tbody>\n",
       "    <tr>\n",
       "      <th>0</th>\n",
       "      <td>1</td>\n",
       "      <td>8</td>\n",
       "      <td>11</td>\n",
       "      <td>9084.45</td>\n",
       "      <td>Platinum</td>\n",
       "    </tr>\n",
       "    <tr>\n",
       "      <th>1</th>\n",
       "      <td>2</td>\n",
       "      <td>129</td>\n",
       "      <td>3</td>\n",
       "      <td>4149.07</td>\n",
       "      <td>Bronze</td>\n",
       "    </tr>\n",
       "    <tr>\n",
       "      <th>2</th>\n",
       "      <td>3</td>\n",
       "      <td>103</td>\n",
       "      <td>7</td>\n",
       "      <td>9525.22</td>\n",
       "      <td>Bronze</td>\n",
       "    </tr>\n",
       "  </tbody>\n",
       "</table>\n",
       "</div>"
      ],
      "text/plain": [
       "   customer_id  recency  frequency  monetary customer_value\n",
       "0            1        8         11   9084.45       Platinum\n",
       "1            2      129          3   4149.07         Bronze\n",
       "2            3      103          7   9525.22         Bronze"
      ]
     },
     "execution_count": 40,
     "metadata": {},
     "output_type": "execute_result"
    }
   ],
   "source": [
    "df_plot = df_rfm[['customer_id', 'recency', 'frequency', 'monetary', 'customer_value']]\n",
    "df_plot.head(3)"
   ]
  },
  {
   "cell_type": "code",
   "execution_count": 41,
   "id": "4a8fb81d-5dfb-4561-a30e-fb602c95c760",
   "metadata": {},
   "outputs": [
    {
     "data": {
      "text/plain": [
       "3492"
      ]
     },
     "execution_count": 41,
     "metadata": {},
     "output_type": "execute_result"
    }
   ],
   "source": [
    "df_plot.customer_id.nunique()"
   ]
  },
  {
   "cell_type": "markdown",
   "id": "43dfb6aa-4611-4715-8a5e-1d11182a84c3",
   "metadata": {},
   "source": [
    "## Plot results of RFM model"
   ]
  },
  {
   "cell_type": "code",
   "execution_count": 42,
   "id": "3c730926-339c-4a9b-a3be-29fa42a2c75b",
   "metadata": {},
   "outputs": [
    {
     "data": {
      "text/html": [
       "<div>\n",
       "<style scoped>\n",
       "    .dataframe tbody tr th:only-of-type {\n",
       "        vertical-align: middle;\n",
       "    }\n",
       "\n",
       "    .dataframe tbody tr th {\n",
       "        vertical-align: top;\n",
       "    }\n",
       "\n",
       "    .dataframe thead th {\n",
       "        text-align: right;\n",
       "    }\n",
       "</style>\n",
       "<table border=\"1\" class=\"dataframe\">\n",
       "  <thead>\n",
       "    <tr style=\"text-align: right;\">\n",
       "      <th></th>\n",
       "      <th>recency</th>\n",
       "      <th>frequency</th>\n",
       "      <th>monetary</th>\n",
       "      <th>customer_id</th>\n",
       "      <th>Segment</th>\n",
       "    </tr>\n",
       "  </thead>\n",
       "  <tbody>\n",
       "    <tr>\n",
       "      <th>0</th>\n",
       "      <td>-0.937711</td>\n",
       "      <td>2.370808</td>\n",
       "      <td>1.00112</td>\n",
       "      <td>1</td>\n",
       "      <td>Platinum</td>\n",
       "    </tr>\n",
       "    <tr>\n",
       "      <th>1</th>\n",
       "      <td>1.106815</td>\n",
       "      <td>-1.121093</td>\n",
       "      <td>-0.691953</td>\n",
       "      <td>2</td>\n",
       "      <td>Bronze</td>\n",
       "    </tr>\n",
       "    <tr>\n",
       "      <th>2</th>\n",
       "      <td>0.667496</td>\n",
       "      <td>0.624857</td>\n",
       "      <td>1.152325</td>\n",
       "      <td>3</td>\n",
       "      <td>Bronze</td>\n",
       "    </tr>\n",
       "    <tr>\n",
       "      <th>3</th>\n",
       "      <td>2.238908</td>\n",
       "      <td>-1.557581</td>\n",
       "      <td>-1.755866</td>\n",
       "      <td>4</td>\n",
       "      <td>Bronze</td>\n",
       "    </tr>\n",
       "    <tr>\n",
       "      <th>4</th>\n",
       "      <td>-0.785639</td>\n",
       "      <td>0.18837</td>\n",
       "      <td>-0.090202</td>\n",
       "      <td>5</td>\n",
       "      <td>Platinum</td>\n",
       "    </tr>\n",
       "  </tbody>\n",
       "</table>\n",
       "</div>"
      ],
      "text/plain": [
       "    recency frequency  monetary customer_id   Segment\n",
       "0 -0.937711  2.370808   1.00112           1  Platinum\n",
       "1  1.106815 -1.121093 -0.691953           2    Bronze\n",
       "2  0.667496  0.624857  1.152325           3    Bronze\n",
       "3  2.238908 -1.557581 -1.755866           4    Bronze\n",
       "4 -0.785639   0.18837 -0.090202           5  Platinum"
      ]
     },
     "execution_count": 42,
     "metadata": {},
     "output_type": "execute_result"
    }
   ],
   "source": [
    "from sklearn.compose import ColumnTransformer\n",
    "from sklearn.preprocessing import StandardScaler\n",
    "\n",
    "features = df_plot[df_plot.columns]\n",
    "ct = ColumnTransformer([('rfmScaler', StandardScaler(), ['recency', 'frequency', 'monetary'])], remainder='passthrough')\n",
    "\n",
    "features = ct.fit_transform(features)\n",
    "\n",
    "df_plot = pd.DataFrame(features, columns = ['recency', 'frequency', 'monetary', 'customer_id', 'Segment'])\n",
    "df_plot.head()"
   ]
  },
  {
   "cell_type": "code",
   "execution_count": 43,
   "id": "d74d8d9c-d9fc-4704-95db-2da016693a83",
   "metadata": {},
   "outputs": [
    {
     "data": {
      "text/html": [
       "<div>\n",
       "<style scoped>\n",
       "    .dataframe tbody tr th:only-of-type {\n",
       "        vertical-align: middle;\n",
       "    }\n",
       "\n",
       "    .dataframe tbody tr th {\n",
       "        vertical-align: top;\n",
       "    }\n",
       "\n",
       "    .dataframe thead th {\n",
       "        text-align: right;\n",
       "    }\n",
       "</style>\n",
       "<table border=\"1\" class=\"dataframe\">\n",
       "  <thead>\n",
       "    <tr style=\"text-align: right;\">\n",
       "      <th></th>\n",
       "      <th>customer_id</th>\n",
       "      <th>Segment</th>\n",
       "      <th>Attribute</th>\n",
       "      <th>Value</th>\n",
       "    </tr>\n",
       "  </thead>\n",
       "  <tbody>\n",
       "    <tr>\n",
       "      <th>0</th>\n",
       "      <td>1</td>\n",
       "      <td>Platinum</td>\n",
       "      <td>recency</td>\n",
       "      <td>-0.937711</td>\n",
       "    </tr>\n",
       "    <tr>\n",
       "      <th>1</th>\n",
       "      <td>2</td>\n",
       "      <td>Bronze</td>\n",
       "      <td>recency</td>\n",
       "      <td>1.106815</td>\n",
       "    </tr>\n",
       "    <tr>\n",
       "      <th>2</th>\n",
       "      <td>3</td>\n",
       "      <td>Bronze</td>\n",
       "      <td>recency</td>\n",
       "      <td>0.667496</td>\n",
       "    </tr>\n",
       "    <tr>\n",
       "      <th>3</th>\n",
       "      <td>4</td>\n",
       "      <td>Bronze</td>\n",
       "      <td>recency</td>\n",
       "      <td>2.238908</td>\n",
       "    </tr>\n",
       "    <tr>\n",
       "      <th>4</th>\n",
       "      <td>5</td>\n",
       "      <td>Platinum</td>\n",
       "      <td>recency</td>\n",
       "      <td>-0.785639</td>\n",
       "    </tr>\n",
       "  </tbody>\n",
       "</table>\n",
       "</div>"
      ],
      "text/plain": [
       "  customer_id   Segment Attribute     Value\n",
       "0           1  Platinum   recency -0.937711\n",
       "1           2    Bronze   recency  1.106815\n",
       "2           3    Bronze   recency  0.667496\n",
       "3           4    Bronze   recency  2.238908\n",
       "4           5  Platinum   recency -0.785639"
      ]
     },
     "execution_count": 43,
     "metadata": {},
     "output_type": "execute_result"
    }
   ],
   "source": [
    "# Melt The Data\n",
    "df_nor_melt = pd.melt(df_plot.reset_index(),\n",
    "                      id_vars=['customer_id', 'Segment'],\n",
    "                      value_vars=['recency','frequency','monetary'],\n",
    "                      var_name='Attribute',\n",
    "                      value_name='Value')\n",
    "df_nor_melt.head()"
   ]
  },
  {
   "cell_type": "code",
   "execution_count": 44,
   "id": "c69c058d-5761-4784-a412-c249ef4c077f",
   "metadata": {},
   "outputs": [
    {
     "data": {
      "image/png": "[encoded data removed]",
      "text/plain": [
       "<Figure size 500x500 with 1 Axes>"
      ]
     },
     "metadata": {},
     "output_type": "display_data"
    }
   ],
   "source": [
    "plt.figure(figsize=(5,5))\n",
    "sns.lineplot(x='Attribute', y='Value', hue='Segment', data=df_nor_melt)\n",
    "plt.show()"
   ]
  },
  {
   "cell_type": "markdown",
   "id": "dc0a1f60-1527-4181-9c13-91afc6213b43",
   "metadata": {
    "tags": []
   },
   "source": [
    "## Save the results"
   ]
  },
  {
   "cell_type": "code",
   "execution_count": 45,
   "id": "88b8999a-030b-4166-8d33-5e3a25384d8e",
   "metadata": {},
   "outputs": [],
   "source": [
    "df_nor_melt.to_csv('Data/customer_segment.csv', index=False)"
   ]
  },
  {
   "cell_type": "code",
   "execution_count": null,
   "id": "2c66e179-eb85-46da-8dca-ac4d2e7510d2",
   "metadata": {},
   "outputs": [],
   "source": []
  }
 ],
 "metadata": {
  "kernelspec": {
   "display_name": "Python 3 (ipykernel)",
   "language": "python",
   "name": "python3"
  },
  "language_info": {
   "codemirror_mode": {
    "name": "ipython",
    "version": 3
   },
   "file_extension": ".py",
   "mimetype": "text/x-python",
   "name": "python",
   "nbconvert_exporter": "python",
   "pygments_lexer": "ipython3",
   "version": "3.9.13"
  }
 },
 "nbformat": 4,
 "nbformat_minor": 5
}
